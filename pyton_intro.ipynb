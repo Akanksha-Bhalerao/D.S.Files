{
  "cells": [
    {
      "cell_type": "markdown",
      "metadata": {
        "id": "g9I1JmfleFvj"
      },
      "source": [
        "### This is comment"
      ]
    },
    {
      "cell_type": "code",
      "execution_count": null,
      "metadata": {
        "colab": {
          "base_uri": "https://localhost:8080/"
        },
        "id": "6R5CLLjyi53I",
        "outputId": "291c1b7c-ac75-4309-ab8f-e6786da61fc1"
      },
      "outputs": [
        {
          "name": "stdout",
          "output_type": "stream",
          "text": [
            "Hello world\n"
          ]
        }
      ],
      "source": [
        " print(\"Hello world\")"
      ]
    },
    {
      "cell_type": "code",
      "execution_count": null,
      "metadata": {
        "colab": {
          "base_uri": "https://localhost:8080/",
          "height": 36
        },
        "id": "__2DonpjiVDx",
        "outputId": "ed6cf4ba-b01e-4679-93ca-3a2514abe4d2"
      },
      "outputs": [
        {
          "data": {
            "application/vnd.google.colaboratory.intrinsic+json": {
              "type": "string"
            },
            "text/plain": [
              "'Hello world'"
            ]
          },
          "execution_count": 13,
          "metadata": {},
          "output_type": "execute_result"
        }
      ],
      "source": [
        "\"Hello world\""
      ]
    },
    {
      "cell_type": "code",
      "execution_count": null,
      "metadata": {
        "colab": {
          "base_uri": "https://localhost:8080/"
        },
        "id": "rC3R9n2YcNBc",
        "outputId": "a359dd9e-b3e1-44b0-8b42-9b1bd6088852"
      },
      "outputs": [
        {
          "data": {
            "text/plain": [
              "30"
            ]
          },
          "execution_count": 14,
          "metadata": {},
          "output_type": "execute_result"
        }
      ],
      "source": [
        "#addaition code\n",
        "\"\"\" this is comment\"\"\"\n",
        "10 + 20\n"
      ]
    },
    {
      "cell_type": "code",
      "execution_count": null,
      "metadata": {
        "colab": {
          "base_uri": "https://localhost:8080/"
        },
        "id": "q1RXG3lvchlD",
        "outputId": "e61031ba-538f-4ff4-b65e-df8db5f5865e"
      },
      "outputs": [
        {
          "data": {
            "text/plain": [
              "30"
            ]
          },
          "execution_count": 15,
          "metadata": {},
          "output_type": "execute_result"
        }
      ],
      "source": [
        " (8-5)*10"
      ]
    },
    {
      "cell_type": "code",
      "execution_count": null,
      "metadata": {
        "colab": {
          "base_uri": "https://localhost:8080/"
        },
        "id": "weN0DeBUZ5ND",
        "outputId": "ead95d9c-f7e9-4762-8407-5520543cc9d4"
      },
      "outputs": [
        {
          "data": {
            "text/plain": [
              "6"
            ]
          },
          "execution_count": 20,
          "metadata": {},
          "output_type": "execute_result"
        }
      ],
      "source": [
        "13//2"
      ]
    },
    {
      "cell_type": "code",
      "execution_count": null,
      "metadata": {
        "colab": {
          "base_uri": "https://localhost:8080/"
        },
        "id": "hE86P9xzlhe3",
        "outputId": "e30442f1-c151-4b4b-b8fd-548517c74fbc"
      },
      "outputs": [
        {
          "data": {
            "text/plain": [
              "625"
            ]
          },
          "execution_count": 23,
          "metadata": {},
          "output_type": "execute_result"
        }
      ],
      "source": [
        "5**4"
      ]
    },
    {
      "cell_type": "code",
      "execution_count": null,
      "metadata": {
        "colab": {
          "base_uri": "https://localhost:8080/"
        },
        "id": "pFfMSZ0Flrdn",
        "outputId": "4dd11ea4-6574-4503-8171-eec5e554833d"
      },
      "outputs": [
        {
          "data": {
            "text/plain": [
              "False"
            ]
          },
          "execution_count": 30,
          "metadata": {},
          "output_type": "execute_result"
        }
      ],
      "source": [
        "X=True\n",
        "Y=False\n",
        "True and False"
      ]
    },
    {
      "cell_type": "code",
      "execution_count": null,
      "metadata": {
        "colab": {
          "base_uri": "https://localhost:8080/"
        },
        "id": "Tt-lIRBKnlH9",
        "outputId": "4ab1c8b7-5a57-49e1-cddf-50e090dab312"
      },
      "outputs": [
        {
          "data": {
            "text/plain": [
              "True"
            ]
          },
          "execution_count": 42,
          "metadata": {},
          "output_type": "execute_result"
        }
      ],
      "source": [
        "x=30\n",
        "y=5\n",
        "c1=x>y\n",
        "c1"
      ]
    },
    {
      "cell_type": "code",
      "execution_count": null,
      "metadata": {
        "colab": {
          "base_uri": "https://localhost:8080/"
        },
        "id": "WaB_ZSDHok33",
        "outputId": "0d968a18-e2ea-4a7b-eebd-46b610807708"
      },
      "outputs": [
        {
          "data": {
            "text/plain": [
              "False"
            ]
          },
          "execution_count": 43,
          "metadata": {},
          "output_type": "execute_result"
        }
      ],
      "source": [
        "c2=x<Y\n",
        "c2"
      ]
    },
    {
      "cell_type": "code",
      "execution_count": null,
      "metadata": {
        "colab": {
          "base_uri": "https://localhost:8080/"
        },
        "id": "uEdP4A5Mn7d-",
        "outputId": "ea561526-aaf2-4729-fe78-e8d3b9dbf9b0"
      },
      "outputs": [
        {
          "data": {
            "text/plain": [
              "bool"
            ]
          },
          "execution_count": 44,
          "metadata": {},
          "output_type": "execute_result"
        }
      ],
      "source": [
        "type(c1)"
      ]
    },
    {
      "cell_type": "code",
      "execution_count": null,
      "metadata": {
        "colab": {
          "base_uri": "https://localhost:8080/"
        },
        "id": "bLvPmpr1mdKu",
        "outputId": "1d62b6e3-d650-4fbc-9faf-20432d04084e"
      },
      "outputs": [
        {
          "name": "stdout",
          "output_type": "stream",
          "text": [
            "50.2\n"
          ]
        },
        {
          "data": {
            "text/plain": [
              "float"
            ]
          },
          "execution_count": 1,
          "metadata": {},
          "output_type": "execute_result"
        }
      ],
      "source": [
        "price=50.2\n",
        "print(price)\n",
        "type(price)\n"
      ]
    },
    {
      "cell_type": "code",
      "execution_count": null,
      "metadata": {
        "colab": {
          "base_uri": "https://localhost:8080/"
        },
        "id": "r67lNxVgfSi3",
        "outputId": "40a94d48-9045-41ed-8e13-f3a53c59adea"
      },
      "outputs": [
        {
          "name": "stdout",
          "output_type": "stream",
          "text": [
            "Akanksha\n"
          ]
        },
        {
          "data": {
            "text/plain": [
              "str"
            ]
          },
          "execution_count": 2,
          "metadata": {},
          "output_type": "execute_result"
        }
      ],
      "source": [
        "name=\"Akanksha\"\n",
        "print(name)\n",
        "type(name)"
      ]
    },
    {
      "cell_type": "code",
      "execution_count": null,
      "metadata": {
        "colab": {
          "base_uri": "https://localhost:8080/"
        },
        "id": "lmfkOAuDggjO",
        "outputId": "aecb1a16-3864-45d9-ccf9-9790f7f22f25"
      },
      "outputs": [
        {
          "data": {
            "text/plain": [
              "['__add__',\n",
              " '__class__',\n",
              " '__contains__',\n",
              " '__delattr__',\n",
              " '__dir__',\n",
              " '__doc__',\n",
              " '__eq__',\n",
              " '__format__',\n",
              " '__ge__',\n",
              " '__getattribute__',\n",
              " '__getitem__',\n",
              " '__getnewargs__',\n",
              " '__getstate__',\n",
              " '__gt__',\n",
              " '__hash__',\n",
              " '__init__',\n",
              " '__init_subclass__',\n",
              " '__iter__',\n",
              " '__le__',\n",
              " '__len__',\n",
              " '__lt__',\n",
              " '__mod__',\n",
              " '__mul__',\n",
              " '__ne__',\n",
              " '__new__',\n",
              " '__reduce__',\n",
              " '__reduce_ex__',\n",
              " '__repr__',\n",
              " '__rmod__',\n",
              " '__rmul__',\n",
              " '__setattr__',\n",
              " '__sizeof__',\n",
              " '__str__',\n",
              " '__subclasshook__',\n",
              " 'capitalize',\n",
              " 'casefold',\n",
              " 'center',\n",
              " 'count',\n",
              " 'encode',\n",
              " 'endswith',\n",
              " 'expandtabs',\n",
              " 'find',\n",
              " 'format',\n",
              " 'format_map',\n",
              " 'index',\n",
              " 'isalnum',\n",
              " 'isalpha',\n",
              " 'isascii',\n",
              " 'isdecimal',\n",
              " 'isdigit',\n",
              " 'isidentifier',\n",
              " 'islower',\n",
              " 'isnumeric',\n",
              " 'isprintable',\n",
              " 'isspace',\n",
              " 'istitle',\n",
              " 'isupper',\n",
              " 'join',\n",
              " 'ljust',\n",
              " 'lower',\n",
              " 'lstrip',\n",
              " 'maketrans',\n",
              " 'partition',\n",
              " 'removeprefix',\n",
              " 'removesuffix',\n",
              " 'replace',\n",
              " 'rfind',\n",
              " 'rindex',\n",
              " 'rjust',\n",
              " 'rpartition',\n",
              " 'rsplit',\n",
              " 'rstrip',\n",
              " 'split',\n",
              " 'splitlines',\n",
              " 'startswith',\n",
              " 'strip',\n",
              " 'swapcase',\n",
              " 'title',\n",
              " 'translate',\n",
              " 'upper',\n",
              " 'zfill']"
            ]
          },
          "execution_count": 3,
          "metadata": {},
          "output_type": "execute_result"
        }
      ],
      "source": [
        "dir(str)"
      ]
    },
    {
      "cell_type": "code",
      "execution_count": null,
      "metadata": {
        "colab": {
          "base_uri": "https://localhost:8080/",
          "height": 36
        },
        "id": "gpOgVcK7iuDW",
        "outputId": "429211e8-a83a-44f7-8e54-9f32ca671e64"
      },
      "outputs": [
        {
          "data": {
            "application/vnd.google.colaboratory.intrinsic+json": {
              "type": "string"
            },
            "text/plain": [
              "'HI MY NAME IS AKANKSHA.'"
            ]
          },
          "execution_count": 7,
          "metadata": {},
          "output_type": "execute_result"
        }
      ],
      "source": [
        "#functions use in strings\n",
        "str1.upper()"
      ]
    },
    {
      "cell_type": "code",
      "execution_count": null,
      "metadata": {
        "colab": {
          "base_uri": "https://localhost:8080/",
          "height": 36
        },
        "id": "oSgz7UxHi5mc",
        "outputId": "339a6836-1cb7-4431-e3a9-179ef0fe0a41"
      },
      "outputs": [
        {
          "data": {
            "application/vnd.google.colaboratory.intrinsic+json": {
              "type": "string"
            },
            "text/plain": [
              "'hi my name is akanksha.'"
            ]
          },
          "execution_count": 8,
          "metadata": {},
          "output_type": "execute_result"
        }
      ],
      "source": [
        "str1.lower()"
      ]
    },
    {
      "cell_type": "code",
      "execution_count": null,
      "metadata": {
        "colab": {
          "base_uri": "https://localhost:8080/",
          "height": 36
        },
        "id": "6qYbVcbdjQHj",
        "outputId": "7cc68686-b0e9-4e65-d2d0-d1f72f7b192c"
      },
      "outputs": [
        {
          "data": {
            "application/vnd.google.colaboratory.intrinsic+json": {
              "type": "string"
            },
            "text/plain": [
              "'Hi My Name Is Akanksha.'"
            ]
          },
          "execution_count": 9,
          "metadata": {},
          "output_type": "execute_result"
        }
      ],
      "source": [
        "str1.title()"
      ]
    },
    {
      "cell_type": "code",
      "execution_count": null,
      "metadata": {
        "colab": {
          "base_uri": "https://localhost:8080/"
        },
        "id": "zwt3qti3jV8M",
        "outputId": "4fe17d57-4ff1-4fe5-8b74-c5a9dfda4b06"
      },
      "outputs": [
        {
          "name": "stdout",
          "output_type": "stream",
          "text": [
            "AKANKSHA\n",
            "AKKU\n"
          ]
        }
      ],
      "source": [
        "name='akanksha'\n",
        "nickname='akku'\n",
        "print(name.swapcase())\n",
        "print(nickname.swapcase())"
      ]
    },
    {
      "cell_type": "code",
      "execution_count": null,
      "metadata": {
        "colab": {
          "base_uri": "https://localhost:8080/"
        },
        "id": "Rs3VZ8V_km-T",
        "outputId": "0ff414d3-756b-4a4e-9e9f-3fdcd334dabc"
      },
      "outputs": [
        {
          "data": {
            "text/plain": [
              "['My', 'Name', 'is', 'Akanksha']"
            ]
          },
          "execution_count": 16,
          "metadata": {},
          "output_type": "execute_result"
        }
      ],
      "source": [
        "S2= 'My Name is Akanksha'\n",
        "S2.split()"
      ]
    },
    {
      "cell_type": "code",
      "execution_count": null,
      "metadata": {
        "colab": {
          "base_uri": "https://localhost:8080/"
        },
        "id": "d-aGnNN3liYs",
        "outputId": "499d1d2f-6529-44a6-9d3a-798ac25e2b1c"
      },
      "outputs": [
        {
          "data": {
            "text/plain": [
              "['mumbi', 'pune', 'mumbi']"
            ]
          },
          "execution_count": 17,
          "metadata": {},
          "output_type": "execute_result"
        }
      ],
      "source": [
        "s2='mumbi-pune-mumbi'\n",
        "s2.split(\"-\")"
      ]
    },
    {
      "cell_type": "code",
      "execution_count": null,
      "metadata": {
        "colab": {
          "base_uri": "https://localhost:8080/"
        },
        "id": "Hlzb2OHqmvAr",
        "outputId": "a759edf9-e724-4dc4-a6f2-453c13bac687"
      },
      "outputs": [
        {
          "data": {
            "text/plain": [
              "['akankshabhalerao', '1711gmail.com']"
            ]
          },
          "execution_count": 18,
          "metadata": {},
          "output_type": "execute_result"
        }
      ],
      "source": [
        "s2='akankshabhalerao@1711gmail.com'\n",
        "s2.split(\"@\")"
      ]
    },
    {
      "cell_type": "code",
      "execution_count": null,
      "metadata": {
        "id": "pE-lqhZ4oUpq"
      },
      "outputs": [],
      "source": [
        "str1='Akanksha'"
      ]
    },
    {
      "cell_type": "code",
      "execution_count": null,
      "metadata": {
        "colab": {
          "base_uri": "https://localhost:8080/",
          "height": 36
        },
        "id": "xxKPy83spYwJ",
        "outputId": "c38b2987-1e93-415f-91a7-2752b8d22d1a"
      },
      "outputs": [
        {
          "data": {
            "application/vnd.google.colaboratory.intrinsic+json": {
              "type": "string"
            },
            "text/plain": [
              "'akku'"
            ]
          },
          "execution_count": 27,
          "metadata": {},
          "output_type": "execute_result"
        }
      ],
      "source": [
        "str1.replace(\"Akanksha\",\"akku\")"
      ]
    },
    {
      "cell_type": "code",
      "execution_count": null,
      "metadata": {
        "colab": {
          "base_uri": "https://localhost:8080/",
          "height": 36
        },
        "id": "zDKhzLcGqHKB",
        "outputId": "4b24e80e-8496-4080-d3b0-16a76a369ee9"
      },
      "outputs": [
        {
          "data": {
            "application/vnd.google.colaboratory.intrinsic+json": {
              "type": "string"
            },
            "text/plain": [
              "'Akanksha'"
            ]
          },
          "execution_count": 29,
          "metadata": {},
          "output_type": "execute_result"
        }
      ],
      "source": [
        "str1"
      ]
    },
    {
      "cell_type": "code",
      "execution_count": null,
      "metadata": {
        "colab": {
          "base_uri": "https://localhost:8080/"
        },
        "id": "y-gUK6tqq4JZ",
        "outputId": "b3a4664a-d398-44c6-a64e-a42f1e561a25"
      },
      "outputs": [
        {
          "data": {
            "text/plain": [
              "3"
            ]
          },
          "execution_count": 31,
          "metadata": {},
          "output_type": "execute_result"
        }
      ],
      "source": [
        "name='akanksha'\n",
        "name.count(\"a\")"
      ]
    },
    {
      "cell_type": "code",
      "execution_count": null,
      "metadata": {
        "colab": {
          "base_uri": "https://localhost:8080/"
        },
        "id": "JYe-tFWKrGf5",
        "outputId": "f921a6e5-2d32-4548-bbc1-e09192fa4f11"
      },
      "outputs": [
        {
          "data": {
            "text/plain": [
              "3"
            ]
          },
          "execution_count": 32,
          "metadata": {},
          "output_type": "execute_result"
        }
      ],
      "source": [
        "'akanksha'.count(\"a\")"
      ]
    },
    {
      "cell_type": "code",
      "execution_count": null,
      "metadata": {
        "colab": {
          "base_uri": "https://localhost:8080/"
        },
        "id": "tHjMMJrUrXkR",
        "outputId": "0efabfdb-b67e-4819-e796-63679bf08661"
      },
      "outputs": [
        {
          "data": {
            "text/plain": [
              "170"
            ]
          },
          "execution_count": 33,
          "metadata": {},
          "output_type": "execute_result"
        }
      ],
      "source": [
        "n1=85\n",
        "n1*2"
      ]
    },
    {
      "cell_type": "code",
      "execution_count": null,
      "metadata": {
        "colab": {
          "base_uri": "https://localhost:8080/",
          "height": 123
        },
        "id": "IuKQNOUSrxE4",
        "outputId": "bc526039-dc83-4423-c098-fada060b2936"
      },
      "outputs": [
        {
          "data": {
            "application/vnd.google.colaboratory.intrinsic+json": {
              "type": "string"
            },
            "text/plain": [
              "'AkankshaAkankshaAkankshaAkankshaAkankshaAkankshaAkankshaAkankshaAkankshaAkankshaAkankshaAkankshaAkankshaAkankshaAkankshaAkankshaAkankshaAkankshaAkankshaAkankshaAkankshaAkankshaAkankshaAkankshaAkankshaAkankshaAkankshaAkankshaAkankshaAkankshaAkankshaAkankshaAkankshaAkankshaAkankshaAkankshaAkankshaAkankshaAkankshaAkankshaAkankshaAkankshaAkankshaAkankshaAkankshaAkankshaAkankshaAkankshaAkankshaAkankshaAkankshaAkankshaAkankshaAkankshaAkankshaAkankshaAkankshaAkankshaAkankshaAkankshaAkankshaAkankshaAkankshaAkankshaAkankshaAkankshaAkankshaAkankshaAkankshaAkankshaAkankshaAkankshaAkankshaAkankshaAkankshaAkankshaAkankshaAkankshaAkankshaAkankshaAkankshaAkankshaAkankshaAkankshaAkankshaAkankshaAkankshaAkankshaAkankshaAkankshaAkankshaAkankshaAkankshaAkankshaAkankshaAkankshaAkankshaAkankshaAkankshaAkankshaAkankshaAkankshaAkankshaAkankshaAkankshaAkankshaAkankshaAkankshaAkankshaAkankshaAkankshaAkankshaAkankshaAkankshaAkankshaAkankshaAkankshaAkankshaAkankshaAkankshaAkankshaAkankshaAkankshaAkankshaAkankshaAkankshaAkankshaAkankshaAkankshaAkankshaAkankshaAkankshaAkankshaAkankshaAkankshaAkankshaAkankshaAkankshaAkankshaAkankshaAkankshaAkankshaAkankshaAkankshaAkankshaAkankshaAkankshaAkankshaAkankshaAkankshaAkankshaAkankshaAkankshaAkankshaAkankshaAkankshaAkankshaAkankshaAkankshaAkankshaAkankshaAkankshaAkankshaAkankshaAkankshaAkankshaAkankshaAkankshaAkankshaAkankshaAkankshaAkankshaAkankshaAkankshaAkankshaAkankshaAkankshaAkankshaAkankshaAkankshaAkankshaAkankshaAkankshaAkankshaAkankshaAkankshaAkankshaAkankshaAkankshaAkankshaAkankshaAkankshaAkankshaAkankshaAkankshaAkankshaAkankshaAkankshaAkankshaAkankshaAkankshaAkankshaAkankshaAkankshaAkankshaAkankshaAkankshaAkankshaAkankshaAkankshaAkankshaAkankshaAkankshaAkankshaAkankshaAkankshaAkankshaAkankshaAkankshaAkankshaAkankshaAkankshaAkankshaAkankshaAkankshaAkankshaAkankshaAkankshaAkankshaAkankshaAkankshaAkankshaAkankshaAkankshaAkankshaAkankshaAkankshaAkankshaAkankshaAkankshaAkankshaAkankshaAkankshaAkankshaAkankshaAkankshaAkankshaAkankshaAkankshaAkankshaAkankshaAkankshaAkankshaAkankshaAkankshaAkankshaAkankshaAkankshaAkankshaAkankshaAkankshaAkankshaAkankshaAkankshaAkankshaAkankshaAkankshaAkankshaAkankshaAkankshaAkankshaAkankshaAkankshaAkankshaAkankshaAkankshaAkankshaAkankshaAkankshaAkankshaAkankshaAkankshaAkankshaAkankshaAkankshaAkankshaAkankshaAkankshaAkankshaAkankshaAkankshaAkankshaAkankshaAkankshaAkankshaAkankshaAkankshaAkankshaAkankshaAkankshaAkankshaAkankshaAkankshaAkankshaAkankshaAkankshaAkankshaAkankshaAkankshaAkankshaAkankshaAkankshaAkankshaAkankshaAkankshaAkankshaAkankshaAkankshaAkankshaAkankshaAkankshaAkankshaAkankshaAkankshaAkankshaAkankshaAkankshaAkankshaAkankshaAkankshaAkankshaAkankshaAkankshaAkankshaAkankshaAkankshaAkankshaAkankshaAkankshaAkankshaAkankshaAkankshaAkankshaAkankshaAkankshaAkankshaAkankshaAkankshaAkankshaAkankshaAkankshaAkankshaAkankshaAkankshaAkankshaAkankshaAkankshaAkankshaAkankshaAkankshaAkankshaAkankshaAkankshaAkankshaAkankshaAkankshaAkankshaAkankshaAkankshaAkankshaAkankshaAkankshaAkankshaAkankshaAkankshaAkankshaAkankshaAkankshaAkankshaAkankshaAkankshaAkankshaAkankshaAkankshaAkankshaAkankshaAkankshaAkankshaAkankshaAkankshaAkankshaAkankshaAkankshaAkankshaAkankshaAkankshaAkankshaAkankshaAkankshaAkankshaAkankshaAkankshaAkankshaAkankshaAkankshaAkankshaAkankshaAkankshaAkankshaAkankshaAkankshaAkankshaAkankshaAkankshaAkankshaAkankshaAkankshaAkankshaAkankshaAkankshaAkankshaAkankshaAkankshaAkankshaAkankshaAkankshaAkankshaAkankshaAkankshaAkankshaAkankshaAkankshaAkankshaAkankshaAkankshaAkankshaAkankshaAkankshaAkankshaAkankshaAkankshaAkankshaAkankshaAkankshaAkankshaAkankshaAkankshaAkankshaAkankshaAkankshaAkankshaAkankshaAkankshaAkankshaAkankshaAkankshaAkankshaAkankshaAkankshaAkankshaAkankshaAkankshaAkankshaAkankshaAkankshaAkankshaAkankshaAkankshaAkankshaAkankshaAkankshaAkankshaAkankshaAkankshaAkankshaAkankshaAkankshaAkankshaAkankshaAkankshaAkankshaAkankshaAkankshaAkankshaAkankshaAkankshaAkankshaAkankshaAkankshaAkankshaAkankshaAkankshaAkankshaAkankshaAkankshaAkankshaAkankshaAkankshaAkankshaAkanksha'"
            ]
          },
          "execution_count": 36,
          "metadata": {},
          "output_type": "execute_result"
        }
      ],
      "source": [
        "a='Akanksha'\n",
        "a*500"
      ]
    },
    {
      "cell_type": "code",
      "execution_count": null,
      "metadata": {
        "colab": {
          "base_uri": "https://localhost:8080/",
          "height": 36
        },
        "id": "bQZ3FoNBqTIW",
        "outputId": "9818f9ed-46a3-41e4-8ac4-97006a10c791"
      },
      "outputs": [
        {
          "data": {
            "application/vnd.google.colaboratory.intrinsic+json": {
              "type": "string"
            },
            "text/plain": [
              "'AkankshaBhalerao'"
            ]
          },
          "execution_count": 14,
          "metadata": {},
          "output_type": "execute_result"
        }
      ],
      "source": [
        "name=\"Akanksha\"\n",
        "surname=\"Bhalerao\"\n",
        "name+surname #concatenates without space"
      ]
    },
    {
      "cell_type": "code",
      "execution_count": null,
      "metadata": {
        "colab": {
          "base_uri": "https://localhost:8080/",
          "height": 36
        },
        "id": "E9gonwiYq6Oj",
        "outputId": "90573970-f9a6-46eb-d956-2256a52fee40"
      },
      "outputs": [
        {
          "data": {
            "application/vnd.google.colaboratory.intrinsic+json": {
              "type": "string"
            },
            "text/plain": [
              "'Akanksha Bhalerao'"
            ]
          },
          "execution_count": 15,
          "metadata": {},
          "output_type": "execute_result"
        }
      ],
      "source": [
        "name+\" \"+surname"
      ]
    },
    {
      "cell_type": "code",
      "execution_count": null,
      "metadata": {
        "colab": {
          "base_uri": "https://localhost:8080/"
        },
        "id": "DBqQnP553AEM",
        "outputId": "bdc13464-6d9c-4fc8-fa5b-1f2f4ca22d1f"
      },
      "outputs": [
        {
          "name": "stdout",
          "output_type": "stream",
          "text": [
            "b is greater\n",
            "in false block\n",
            "400\n"
          ]
        }
      ],
      "source": [
        "#if else condition\n",
        "a=10\n",
        "b=40\n",
        "if a>b:\n",
        "  print(\"a is grater\")\n",
        "  print(\"in false block\")\n",
        "  c=a*b\n",
        "  print(c)\n",
        "else:\n",
        "  print('b is greater')\n",
        "  print('in false block')\n",
        "  c=a*b\n",
        "  print(c)\n"
      ]
    },
    {
      "cell_type": "code",
      "execution_count": null,
      "metadata": {
        "colab": {
          "base_uri": "https://localhost:8080/"
        },
        "id": "UcLQC_QfkNzv",
        "outputId": "e5cb7d14-3d58-45ab-8ac2-4184e19f25a8"
      },
      "outputs": [
        {
          "name": "stdout",
          "output_type": "stream",
          "text": [
            "greatest number is:,b\n"
          ]
        }
      ],
      "source": [
        "a=5000\n",
        "b=30000\n",
        "if(a>b):\n",
        "  print(a,\"is greater\")\n",
        "else:\n",
        "  print(\"greatest number is:,b\")\n"
      ]
    },
    {
      "cell_type": "code",
      "execution_count": null,
      "metadata": {
        "colab": {
          "base_uri": "https://localhost:8080/"
        },
        "id": "kZb_-mvOlCOQ",
        "outputId": "1c131772-e516-4a15-b618-a03a8db2f225"
      },
      "outputs": [
        {
          "name": "stdout",
          "output_type": "stream",
          "text": [
            "hello from false if / else\n",
            "bye...outside of if block\n",
            "Net salary 1200.0\n"
          ]
        }
      ],
      "source": [
        "salary=1500\n",
        "if(salary>20000):\n",
        "  tax=0.20\n",
        "  print(\"hello from true if\")\n",
        "else:\n",
        "  tax=0.20\n",
        "  print(\"hello from false if / else\")\n",
        "print(\"bye...outside of if block\")\n",
        "net_sal=salary-tax*salary\n",
        "print(\"Net salary\",net_sal)"
      ]
    },
    {
      "cell_type": "code",
      "execution_count": null,
      "metadata": {
        "colab": {
          "base_uri": "https://localhost:8080/"
        },
        "id": "8UE8gC1CrImM",
        "outputId": "99eb1127-ea60-4eda-d2a3-4b4459143d77"
      },
      "outputs": [
        {
          "data": {
            "text/plain": [
              "range(5, 10)"
            ]
          },
          "execution_count": 16,
          "metadata": {},
          "output_type": "execute_result"
        }
      ],
      "source": [
        "range(5,10)"
      ]
    },
    {
      "cell_type": "code",
      "execution_count": null,
      "metadata": {
        "colab": {
          "base_uri": "https://localhost:8080/"
        },
        "id": "WO-PZ_E8m3Ef",
        "outputId": "1a960e24-2727-4fc7-89a6-47886cd6083a"
      },
      "outputs": [
        {
          "name": "stdout",
          "output_type": "stream",
          "text": [
            "hello\n",
            "hello\n",
            "hello\n"
          ]
        }
      ],
      "source": [
        "#loops\n",
        "#range is a function used in loops\n",
        "#for loop\n",
        "for num in range(0,3):\n",
        "  print(\"hello\")"
      ]
    },
    {
      "cell_type": "code",
      "execution_count": null,
      "metadata": {
        "colab": {
          "base_uri": "https://localhost:8080/"
        },
        "id": "QuuMFs7prO_x",
        "outputId": "a4739a70-4054-45ae-bd04-b0dc78729365"
      },
      "outputs": [
        {
          "name": "stdout",
          "output_type": "stream",
          "text": [
            "5\n",
            "6\n",
            "7\n",
            "8\n",
            "9\n",
            "bye\n"
          ]
        }
      ],
      "source": [
        "#for loop\n",
        "for i in range (5,10):\n",
        "  print(i)\n",
        "print('bye')\n"
      ]
    },
    {
      "cell_type": "code",
      "execution_count": null,
      "metadata": {
        "colab": {
          "base_uri": "https://localhost:8080/"
        },
        "id": "WuCHTIv-pdKN",
        "outputId": "5cf05bfe-9047-4002-ca83-24eaadc98e8d"
      },
      "outputs": [
        {
          "name": "stdout",
          "output_type": "stream",
          "text": [
            "1\n",
            "2\n",
            "3\n",
            "4\n",
            "5\n"
          ]
        }
      ],
      "source": [
        "for i in range(1,6):\n",
        "  print(i)\n"
      ]
    },
    {
      "cell_type": "code",
      "execution_count": null,
      "metadata": {
        "colab": {
          "base_uri": "https://localhost:8080/"
        },
        "id": "q19Fu_wNyr7S",
        "outputId": "2948a4ce-172c-4753-c114-483e537b0a56"
      },
      "outputs": [
        {
          "name": "stdout",
          "output_type": "stream",
          "text": [
            "1\n",
            "3\n",
            "5\n",
            "7\n",
            "9\n"
          ]
        }
      ],
      "source": [
        "#print odd numbers from 1 to 10\n",
        "for i in range(1,10,2):\n",
        "  print(i)"
      ]
    },
    {
      "cell_type": "code",
      "execution_count": null,
      "metadata": {
        "colab": {
          "base_uri": "https://localhost:8080/"
        },
        "id": "b0M6W5h1zR8S",
        "outputId": "22654789-6ab9-44d8-f9ce-2f56fce822c3"
      },
      "outputs": [
        {
          "name": "stdout",
          "output_type": "stream",
          "text": [
            "2\n",
            "4\n",
            "6\n",
            "8\n"
          ]
        }
      ],
      "source": [
        "#print even numbers from 1 to 10\n",
        "for i in range(2,10,2):\n",
        "  print(i)\n"
      ]
    },
    {
      "cell_type": "code",
      "execution_count": null,
      "metadata": {
        "id": "iK35XtUJ0HtS"
      },
      "outputs": [],
      "source": [
        "# Q1. print all even numbers from 1 to 20\n",
        "# Q2. print all odd numbers from 1 to 20"
      ]
    },
    {
      "cell_type": "code",
      "execution_count": null,
      "metadata": {
        "colab": {
          "base_uri": "https://localhost:8080/"
        },
        "id": "Bnhd4yX00d8I",
        "outputId": "78bba39a-3da0-432c-a628-2407b940d712"
      },
      "outputs": [
        {
          "name": "stdout",
          "output_type": "stream",
          "text": [
            "1\n",
            "2\n",
            "3\n",
            "4\n",
            "same\n"
          ]
        }
      ],
      "source": [
        "# 'break' statement terminates the loop when condition is satisfied\n",
        "for i in range(1,11):\n",
        "  if i==5:\n",
        "    print('same')\n",
        "    break\n",
        "  else:\n",
        "    print(i)"
      ]
    },
    {
      "cell_type": "code",
      "execution_count": null,
      "metadata": {
        "colab": {
          "base_uri": "https://localhost:8080/"
        },
        "id": "N3E_i0Wr1Xeq",
        "outputId": "146168d3-14d4-4184-8d26-609633279a9f"
      },
      "outputs": [
        {
          "name": "stdout",
          "output_type": "stream",
          "text": [
            "0 0\n",
            "1 1\n",
            "2 8\n",
            "3 27\n",
            "4 64\n",
            "5 125\n",
            "6 216\n",
            "7 343\n",
            "8 512\n",
            "9 729\n",
            "10 1000\n"
          ]
        }
      ],
      "source": [
        "for num  in range(11):#0 to 10\n",
        "   print(num,num**3)"
      ]
    },
    {
      "cell_type": "code",
      "execution_count": null,
      "metadata": {
        "colab": {
          "base_uri": "https://localhost:8080/"
        },
        "id": "gI0IRfLL2K1a",
        "outputId": "90ea18da-8ef1-400a-e590-786868011c05"
      },
      "outputs": [
        {
          "name": "stdout",
          "output_type": "stream",
          "text": [
            "1\n",
            "6\n",
            "11\n",
            "16\n",
            "21\n",
            "26\n"
          ]
        }
      ],
      "source": [
        "#range(start,stop,step)\n",
        "for i in range(1,31,5):\n",
        "  print(i)\n",
        "  #print(i,'@')\n"
      ]
    },
    {
      "cell_type": "code",
      "execution_count": null,
      "metadata": {
        "colab": {
          "base_uri": "https://localhost:8080/"
        },
        "id": "afzSCMEH3CsZ",
        "outputId": "2aa7e8bf-2c21-4765-a6af-00a341123ab1"
      },
      "outputs": [
        {
          "name": "stdout",
          "output_type": "stream",
          "text": [
            "s\n",
            "c\n",
            "i\n",
            "e\n",
            "n\n",
            "c\n",
            "e\n"
          ]
        }
      ],
      "source": [
        "Subject='science'\n",
        "for i in  Subject:\n",
        "  print(i)\n"
      ]
    },
    {
      "cell_type": "code",
      "execution_count": null,
      "metadata": {
        "colab": {
          "base_uri": "https://localhost:8080/"
        },
        "id": "eZ-h7O3N3rJy",
        "outputId": "e5527cdc-0ef5-483c-b627-469e8c3308b5"
      },
      "outputs": [
        {
          "name": "stdout",
          "output_type": "stream",
          "text": [
            "Akanksha Akanksha \n",
            "Akanksha Akanksha Akanksha \n",
            "Akanksha Akanksha Akanksha Akanksha \n",
            "Akanksha Akanksha Akanksha Akanksha Akanksha \n",
            "Akanksha Akanksha Akanksha Akanksha Akanksha Akanksha \n"
          ]
        }
      ],
      "source": [
        "# print name 3 times on first line,  4 times on 2nd,5 - 3rd, 6 - 4th line. Range(3,7)\n",
        "'''\n",
        "name=\"Akanksa\"\n",
        "for i in range(2,7):\n",
        "  x=(name + \" \")*i\n",
        "  print(x)\n",
        "'''\n",
        "name=\"Akanksha \"\n",
        "for i in range(2,7):\n",
        "  print(name*i)\n",
        "\n"
      ]
    },
    {
      "cell_type": "code",
      "execution_count": null,
      "metadata": {
        "colab": {
          "base_uri": "https://localhost:8080/"
        },
        "id": "ekez69-M58Xx",
        "outputId": "4930439f-24ce-45cf-d043-df13d54c3708"
      },
      "outputs": [
        {
          "name": "stdout",
          "output_type": "stream",
          "text": [
            "D R I S H Y M "
          ]
        }
      ],
      "source": [
        "# print each letter of movie on separate line\n",
        "# change case of each letter (upper to small and small to upper) of movie on single line with seperator ~\n",
        "movie=\"drishym\"\n",
        "for letter in movie:\n",
        "  #print(letter)\n",
        "  #print(letter.swapcase())\n",
        "  print(letter.swapcase(),end=\" \") #try upper(), lower(),\"-\",\"#\",etc. Default end parameter is 'new line'"
      ]
    },
    {
      "cell_type": "code",
      "execution_count": null,
      "metadata": {
        "colab": {
          "base_uri": "https://localhost:8080/"
        },
        "id": "9oqDt7NM7kDy",
        "outputId": "2b773c51-a9f5-40f6-821a-13ff53ae8129"
      },
      "outputs": [
        {
          "name": "stdout",
          "output_type": "stream",
          "text": [
            "odd number: 1\n",
            "even number: 2\n",
            "odd number: 3\n",
            "even number: 4\n",
            "odd number: 5\n",
            "even number: 6\n",
            "odd number: 7\n",
            "even number: 8\n",
            "odd number: 9\n",
            "even number: 10\n"
          ]
        }
      ],
      "source": [
        "#print all even and odd numbers between given range using for loop\n",
        "for i in range(1,11):\n",
        "  if i%2==0:\n",
        "      print('even number:',i)\n",
        "  else:\n",
        "    print('odd number:',i)"
      ]
    },
    {
      "cell_type": "code",
      "execution_count": null,
      "metadata": {
        "colab": {
          "base_uri": "https://localhost:8080/"
        },
        "id": "2jgwxFEQ9RKK",
        "outputId": "2a1d02ef-49fb-42c8-d8b0-227a1e2b0080"
      },
      "outputs": [
        {
          "name": "stdout",
          "output_type": "stream",
          "text": [
            "even numbers:\n",
            "2\n",
            "4\n",
            "6\n",
            "8\n",
            "10\n",
            "odd number:\n",
            "1\n",
            "3\n",
            "5\n",
            "7\n",
            "9\n"
          ]
        }
      ],
      "source": [
        "print(\"even numbers:\")\n",
        "for i in range(1,11):\n",
        "    if i % 2==0:\n",
        "      print(i)\n",
        "print(\"odd number:\")\n",
        "for i in range(1,11):\n",
        "     if i % 2!=0:\n",
        "      print(i)\n",
        "\n"
      ]
    },
    {
      "cell_type": "code",
      "execution_count": null,
      "metadata": {
        "colab": {
          "base_uri": "https://localhost:8080/"
        },
        "id": "4_fz2k3AJIWC",
        "outputId": "0126b937-0f9e-40d0-aa93-8312949c5d0f"
      },
      "outputs": [
        {
          "name": "stdout",
          "output_type": "stream",
          "text": [
            "DDDD aaaa tttt aaaa      ssss cccc iiii eeee nnnn cccc eeee "
          ]
        }
      ],
      "source": [
        "#print every letter four times with separator as space\n",
        "for letter in (\"Data science\"):\n",
        "  print(letter*4,end=\" \")\n"
      ]
    },
    {
      "cell_type": "code",
      "execution_count": null,
      "metadata": {
        "colab": {
          "base_uri": "https://localhost:8080/"
        },
        "id": "kNd1jcs-ajFX",
        "outputId": "4ff5d2f3-ef39-42ff-bad9-3bc17f3eb75f"
      },
      "outputs": [
        {
          "data": {
            "text/plain": [
              "7"
            ]
          },
          "execution_count": 3,
          "metadata": {},
          "output_type": "execute_result"
        }
      ],
      "source": [
        "len(\"my name\")"
      ]
    },
    {
      "cell_type": "code",
      "execution_count": null,
      "metadata": {
        "colab": {
          "base_uri": "https://localhost:8080/"
        },
        "id": "WbdI4I9kavUO",
        "outputId": "af42bfe4-3604-43e4-80fd-28dd097c03db"
      },
      "outputs": [
        {
          "data": {
            "text/plain": [
              "4"
            ]
          },
          "execution_count": 4,
          "metadata": {},
          "output_type": "execute_result"
        }
      ],
      "source": [
        "len(\"Akku\")"
      ]
    },
    {
      "cell_type": "code",
      "execution_count": null,
      "metadata": {
        "colab": {
          "base_uri": "https://localhost:8080/"
        },
        "id": "oObe9M3ca4m-",
        "outputId": "973df7db-4f19-4821-89a6-df51bbf7c17e"
      },
      "outputs": [
        {
          "data": {
            "text/plain": [
              "[40, 55, 70, 60, 80, 85, 78]"
            ]
          },
          "execution_count": 6,
          "metadata": {},
          "output_type": "execute_result"
        }
      ],
      "source": [
        "# Data Structure: 1.LIST\n",
        "# Lists are mutable.\n",
        "# created using square brackets []\n",
        "marks=[40,55,70,60,80,85,78]\n",
        "marks"
      ]
    },
    {
      "cell_type": "code",
      "execution_count": null,
      "metadata": {
        "colab": {
          "base_uri": "https://localhost:8080/"
        },
        "id": "Ju6QyM-pbmTu",
        "outputId": "cb7f6b14-dfd6-4224-c95e-9eebd67ad116"
      },
      "outputs": [
        {
          "data": {
            "text/plain": [
              "list"
            ]
          },
          "execution_count": 7,
          "metadata": {},
          "output_type": "execute_result"
        }
      ],
      "source": [
        "type(marks)"
      ]
    },
    {
      "cell_type": "code",
      "execution_count": null,
      "metadata": {
        "colab": {
          "base_uri": "https://localhost:8080/"
        },
        "id": "Whb60P3_bzZG",
        "outputId": "d0980873-e97e-4c66-876e-d74ab50b5e03"
      },
      "outputs": [
        {
          "data": {
            "text/plain": [
              "list"
            ]
          },
          "execution_count": 9,
          "metadata": {},
          "output_type": "execute_result"
        }
      ],
      "source": [
        "l1=[1.2,1.3,1.4]\n",
        "type(l1)"
      ]
    },
    {
      "cell_type": "code",
      "execution_count": null,
      "metadata": {
        "colab": {
          "base_uri": "https://localhost:8080/"
        },
        "id": "lVDju0xmbu7f",
        "outputId": "c948aabc-aef8-495b-e40c-5565a4e79b89"
      },
      "outputs": [
        {
          "data": {
            "text/plain": [
              "['__add__',\n",
              " '__class__',\n",
              " '__class_getitem__',\n",
              " '__contains__',\n",
              " '__delattr__',\n",
              " '__delitem__',\n",
              " '__dir__',\n",
              " '__doc__',\n",
              " '__eq__',\n",
              " '__format__',\n",
              " '__ge__',\n",
              " '__getattribute__',\n",
              " '__getitem__',\n",
              " '__getstate__',\n",
              " '__gt__',\n",
              " '__hash__',\n",
              " '__iadd__',\n",
              " '__imul__',\n",
              " '__init__',\n",
              " '__init_subclass__',\n",
              " '__iter__',\n",
              " '__le__',\n",
              " '__len__',\n",
              " '__lt__',\n",
              " '__mul__',\n",
              " '__ne__',\n",
              " '__new__',\n",
              " '__reduce__',\n",
              " '__reduce_ex__',\n",
              " '__repr__',\n",
              " '__reversed__',\n",
              " '__rmul__',\n",
              " '__setattr__',\n",
              " '__setitem__',\n",
              " '__sizeof__',\n",
              " '__str__',\n",
              " '__subclasshook__',\n",
              " 'append',\n",
              " 'clear',\n",
              " 'copy',\n",
              " 'count',\n",
              " 'extend',\n",
              " 'index',\n",
              " 'insert',\n",
              " 'pop',\n",
              " 'remove',\n",
              " 'reverse',\n",
              " 'sort']"
            ]
          },
          "execution_count": 8,
          "metadata": {},
          "output_type": "execute_result"
        }
      ],
      "source": [
        "dir(list)"
      ]
    },
    {
      "cell_type": "code",
      "execution_count": null,
      "metadata": {
        "colab": {
          "base_uri": "https://localhost:8080/"
        },
        "id": "C_RG8voCeLIv",
        "outputId": "93b914b6-4418-43bf-99b2-c91adb4923a6"
      },
      "outputs": [
        {
          "data": {
            "text/plain": [
              "7"
            ]
          },
          "execution_count": 8,
          "metadata": {},
          "output_type": "execute_result"
        }
      ],
      "source": [
        "len(marks)"
      ]
    },
    {
      "cell_type": "code",
      "execution_count": null,
      "metadata": {
        "colab": {
          "base_uri": "https://localhost:8080/"
        },
        "id": "HSy8ejBTeXh3",
        "outputId": "209469db-66ff-441e-d51a-367fac56b96a"
      },
      "outputs": [
        {
          "data": {
            "text/plain": [
              "[40, 55, 60, 70, 78, 80, 85]"
            ]
          },
          "execution_count": 9,
          "metadata": {},
          "output_type": "execute_result"
        }
      ],
      "source": [
        "sorted(marks)"
      ]
    },
    {
      "cell_type": "code",
      "execution_count": null,
      "metadata": {
        "colab": {
          "base_uri": "https://localhost:8080/"
        },
        "id": "HWFGN35qeeRW",
        "outputId": "5e6d4d0b-c63a-45ab-9458-b14af7c0f010"
      },
      "outputs": [
        {
          "data": {
            "text/plain": [
              "[40, 55, 70, 60, 80, 85, 78]"
            ]
          },
          "execution_count": 10,
          "metadata": {},
          "output_type": "execute_result"
        }
      ],
      "source": [
        "marks\n"
      ]
    },
    {
      "cell_type": "code",
      "execution_count": null,
      "metadata": {
        "colab": {
          "base_uri": "https://localhost:8080/"
        },
        "id": "4GOh75W0eka2",
        "outputId": "7f77595e-04dc-4348-828a-2080ee803244"
      },
      "outputs": [
        {
          "data": {
            "text/plain": [
              "[40, 55, 60, 70, 78, 80, 85]"
            ]
          },
          "execution_count": 11,
          "metadata": {},
          "output_type": "execute_result"
        }
      ],
      "source": [
        "new_marks=sorted(marks) # creates new sorted list. Original marks list remains unchanged\n",
        "new_marks"
      ]
    },
    {
      "cell_type": "code",
      "execution_count": null,
      "metadata": {
        "colab": {
          "base_uri": "https://localhost:8080/"
        },
        "id": "fHxpCkWK3PPs",
        "outputId": "c0bf7296-57b2-43c4-843b-683e5ca539fb"
      },
      "outputs": [
        {
          "data": {
            "text/plain": [
              "[40, 55, 70, 60, 80, 85, 78]"
            ]
          },
          "execution_count": 12,
          "metadata": {},
          "output_type": "execute_result"
        }
      ],
      "source": [
        "marks"
      ]
    },
    {
      "cell_type": "code",
      "execution_count": null,
      "metadata": {
        "id": "sbmfI5ft3R-z"
      },
      "outputs": [],
      "source": [
        "marks.sort()\n"
      ]
    },
    {
      "cell_type": "code",
      "execution_count": null,
      "metadata": {
        "colab": {
          "base_uri": "https://localhost:8080/"
        },
        "id": "mGELiYw73oYT",
        "outputId": "30092c08-8186-4b08-f79d-b0b98c5c2ce2"
      },
      "outputs": [
        {
          "data": {
            "text/plain": [
              "[40, 55, 60, 70, 78, 80, 85]"
            ]
          },
          "execution_count": 14,
          "metadata": {},
          "output_type": "execute_result"
        }
      ],
      "source": [
        "marks"
      ]
    },
    {
      "cell_type": "code",
      "execution_count": null,
      "metadata": {
        "colab": {
          "base_uri": "https://localhost:8080/"
        },
        "id": "v9gmixHf3uPq",
        "outputId": "1913c315-621e-404b-d568-7657f64068e2"
      },
      "outputs": [
        {
          "data": {
            "text/plain": [
              "['a', 'a', 'a', 'h', 'k', 'k', 'n', 's']"
            ]
          },
          "execution_count": 16,
          "metadata": {},
          "output_type": "execute_result"
        }
      ],
      "source": [
        "name='akanksha'\n",
        "sorted(name)\n"
      ]
    },
    {
      "cell_type": "code",
      "execution_count": null,
      "metadata": {
        "id": "ZkjNfrJc4dS2"
      },
      "outputs": [],
      "source": [
        "marks.append(37)  # Append will add element in the last only."
      ]
    },
    {
      "cell_type": "code",
      "execution_count": null,
      "metadata": {
        "colab": {
          "base_uri": "https://localhost:8080/"
        },
        "id": "2Qu-NlR24p2t",
        "outputId": "d3d3b351-d0e1-4e22-f760-b4867a1ae52c"
      },
      "outputs": [
        {
          "data": {
            "text/plain": [
              "[85, 80, 78, 70, 60, 55, 40, 37]"
            ]
          },
          "execution_count": 21,
          "metadata": {},
          "output_type": "execute_result"
        }
      ],
      "source": [
        "marks\n"
      ]
    },
    {
      "cell_type": "code",
      "execution_count": null,
      "metadata": {
        "colab": {
          "base_uri": "https://localhost:8080/"
        },
        "id": "Maz2WhzY37Dq",
        "outputId": "f4619cc1-dd31-472b-9430-35a5dc4e9b80"
      },
      "outputs": [
        {
          "data": {
            "text/plain": [
              "[85, 80, 78, 70, 60, 55, 40, 37]"
            ]
          },
          "execution_count": 22,
          "metadata": {},
          "output_type": "execute_result"
        }
      ],
      "source": [
        "marks"
      ]
    },
    {
      "cell_type": "code",
      "execution_count": null,
      "metadata": {
        "id": "tIvkdlnU4PwK"
      },
      "outputs": [],
      "source": [
        "marks.reverse()"
      ]
    },
    {
      "cell_type": "code",
      "execution_count": null,
      "metadata": {
        "colab": {
          "base_uri": "https://localhost:8080/"
        },
        "id": "EMxP1hIu4Tla",
        "outputId": "99f43391-b70c-4d4e-ab8f-837f48dd973a"
      },
      "outputs": [
        {
          "data": {
            "text/plain": [
              "[85, 80, 78, 70, 60, 55, 40, 37]"
            ]
          },
          "execution_count": 23,
          "metadata": {},
          "output_type": "execute_result"
        }
      ],
      "source": [
        "marks"
      ]
    },
    {
      "cell_type": "code",
      "execution_count": null,
      "metadata": {
        "id": "nptkdrhA4WnL"
      },
      "outputs": [],
      "source": [
        "marks2=[83,74,76,92,81,90]"
      ]
    },
    {
      "cell_type": "code",
      "execution_count": null,
      "metadata": {
        "colab": {
          "base_uri": "https://localhost:8080/"
        },
        "id": "OPBvM1_66zpz",
        "outputId": "0e1407ad-41fe-42a6-8186-b1387c44645e"
      },
      "outputs": [
        {
          "data": {
            "text/plain": [
              "[92, 90, 83, 81, 76, 74]"
            ]
          },
          "execution_count": 25,
          "metadata": {},
          "output_type": "execute_result"
        }
      ],
      "source": [
        "marks2.sort(reverse=True) # sorts in descending order when reverse=True\n",
        "marks2"
      ]
    },
    {
      "cell_type": "code",
      "execution_count": null,
      "metadata": {
        "id": "aoEva88X7WEk"
      },
      "outputs": [],
      "source": [
        "marks3=[21,31,41,51,61,91]\n",
        "marks3.sort(reverse=False) # by default it sorts in ascending order. No need to write 'reverse=False'"
      ]
    },
    {
      "cell_type": "code",
      "execution_count": null,
      "metadata": {
        "colab": {
          "base_uri": "https://localhost:8080/"
        },
        "id": "E6-QiPGK7qqD",
        "outputId": "227c67f2-fc46-48aa-e7ea-114e21442972"
      },
      "outputs": [
        {
          "data": {
            "text/plain": [
              "[21, 31, 41, 51, 61, 91]"
            ]
          },
          "execution_count": 27,
          "metadata": {},
          "output_type": "execute_result"
        }
      ],
      "source": [
        "marks3"
      ]
    },
    {
      "cell_type": "code",
      "execution_count": null,
      "metadata": {
        "id": "9mValUTy7sVi"
      },
      "outputs": [],
      "source": [
        "marks3.insert(2,89) # insert 89 at 3rd index\n"
      ]
    },
    {
      "cell_type": "code",
      "execution_count": null,
      "metadata": {
        "colab": {
          "base_uri": "https://localhost:8080/"
        },
        "id": "mW2Yl5UA8Hur",
        "outputId": "0c0515c2-c198-4b5e-fe89-51f79a9afc2d"
      },
      "outputs": [
        {
          "data": {
            "text/plain": [
              "[21, 31, 89, 41, 51, 61, 91]"
            ]
          },
          "execution_count": 29,
          "metadata": {},
          "output_type": "execute_result"
        }
      ],
      "source": [
        "marks3"
      ]
    },
    {
      "cell_type": "code",
      "execution_count": null,
      "metadata": {
        "id": "T4qpGTXh8Kd7"
      },
      "outputs": [],
      "source": [
        "marks3.insert(6,89) # insert 89 at 6th index\n"
      ]
    },
    {
      "cell_type": "code",
      "execution_count": null,
      "metadata": {
        "colab": {
          "base_uri": "https://localhost:8080/"
        },
        "id": "H-EGm1LH8bHd",
        "outputId": "a267e51e-6446-4925-e145-102827a11c3c"
      },
      "outputs": [
        {
          "data": {
            "text/plain": [
              "[21, 31, 89, 41, 51, 61, 89, 91]"
            ]
          },
          "execution_count": 31,
          "metadata": {},
          "output_type": "execute_result"
        }
      ],
      "source": [
        "marks3"
      ]
    },
    {
      "cell_type": "code",
      "execution_count": null,
      "metadata": {
        "colab": {
          "base_uri": "https://localhost:8080/"
        },
        "id": "v0XbwZ0_8egr",
        "outputId": "6222025c-33df-4456-d7b1-82100dd7b843"
      },
      "outputs": [
        {
          "data": {
            "text/plain": [
              "[85, 80, 78, 70, 60, 55, 40, 37]"
            ]
          },
          "execution_count": 32,
          "metadata": {},
          "output_type": "execute_result"
        }
      ],
      "source": [
        "marks"
      ]
    },
    {
      "cell_type": "code",
      "execution_count": null,
      "metadata": {
        "colab": {
          "base_uri": "https://localhost:8080/"
        },
        "id": "KIeCmUPI8lqD",
        "outputId": "8bb7cc5b-38b0-49a4-8163-a7c937cb8340"
      },
      "outputs": [
        {
          "data": {
            "text/plain": [
              "False"
            ]
          },
          "execution_count": 33,
          "metadata": {},
          "output_type": "execute_result"
        }
      ],
      "source": [
        "90 in marks # checks whether 90 is present in list or not. IF yes returns True, else False\n"
      ]
    },
    {
      "cell_type": "code",
      "execution_count": null,
      "metadata": {
        "colab": {
          "base_uri": "https://localhost:8080/"
        },
        "id": "-roF4vPj83oE",
        "outputId": "fdcb8a45-e6f3-4ab9-cbc7-0fe5ef449b0a"
      },
      "outputs": [
        {
          "data": {
            "text/plain": [
              "True"
            ]
          },
          "execution_count": 34,
          "metadata": {},
          "output_type": "execute_result"
        }
      ],
      "source": [
        "85 in marks"
      ]
    },
    {
      "cell_type": "code",
      "execution_count": null,
      "metadata": {
        "colab": {
          "base_uri": "https://localhost:8080/"
        },
        "id": "EpnjKOVl87J7",
        "outputId": "f7217baf-cf87-4509-8dc3-ad8dd74ad114"
      },
      "outputs": [
        {
          "data": {
            "text/plain": [
              "[20, 30, 40, 50, 60, 70]"
            ]
          },
          "execution_count": 35,
          "metadata": {},
          "output_type": "execute_result"
        }
      ],
      "source": [
        "list1=[20,30,40]\n",
        "list2=[50,60,70]\n",
        "list1+list2 # concatenation or merging of two lists"
      ]
    },
    {
      "cell_type": "code",
      "execution_count": null,
      "metadata": {
        "colab": {
          "base_uri": "https://localhost:8080/"
        },
        "id": "uV6HP2zt9gyV",
        "outputId": "335d7667-4faa-4e61-d93f-f7abc4630453"
      },
      "outputs": [
        {
          "data": {
            "text/plain": [
              "[20, 30, 40, 50, 60, 70, 20, 30, 40, 50, 60, 70, 20, 30, 40, 50, 60, 70]"
            ]
          },
          "execution_count": 36,
          "metadata": {},
          "output_type": "execute_result"
        }
      ],
      "source": [
        "(list1+list2)*3  # repeats 3 times"
      ]
    },
    {
      "cell_type": "code",
      "execution_count": null,
      "metadata": {
        "colab": {
          "base_uri": "https://localhost:8080/"
        },
        "id": "N5Bq8qLd90J1",
        "outputId": "179a1b7e-bd73-48fb-ed97-115f5995a25c"
      },
      "outputs": [
        {
          "data": {
            "text/plain": [
              "['pen', 'prncil', 'sharpner']"
            ]
          },
          "execution_count": 1,
          "metadata": {},
          "output_type": "execute_result"
        }
      ],
      "source": [
        "stationary=['pen','prncil','sharpner']\n",
        "stationary"
      ]
    },
    {
      "cell_type": "code",
      "execution_count": null,
      "metadata": {
        "colab": {
          "base_uri": "https://localhost:8080/"
        },
        "id": "0OedvJMe4LdL",
        "outputId": "802befac-dfcb-4a59-b794-f1950612ed4b"
      },
      "outputs": [
        {
          "data": {
            "text/plain": [
              "3"
            ]
          },
          "execution_count": 2,
          "metadata": {},
          "output_type": "execute_result"
        }
      ],
      "source": [
        "len(stationary)"
      ]
    },
    {
      "cell_type": "code",
      "execution_count": null,
      "metadata": {
        "id": "RzYGoC764YA6"
      },
      "outputs": [],
      "source": [
        "stationary.append(['notebook','bag']) # only 1 list element will be added\n",
        "#this format is wrong this is just for example"
      ]
    },
    {
      "cell_type": "code",
      "execution_count": null,
      "metadata": {
        "colab": {
          "base_uri": "https://localhost:8080/"
        },
        "id": "4mag2OB34law",
        "outputId": "2b6fce1e-0909-4d8c-9ecd-c572e2c0da4f"
      },
      "outputs": [
        {
          "data": {
            "text/plain": [
              "['pen', 'prncil', 'sharpner', ['notebook', 'bag']]"
            ]
          },
          "execution_count": 4,
          "metadata": {},
          "output_type": "execute_result"
        }
      ],
      "source": [
        "stationary"
      ]
    },
    {
      "cell_type": "code",
      "execution_count": null,
      "metadata": {
        "colab": {
          "base_uri": "https://localhost:8080/"
        },
        "id": "_uRYt3Vk4n6r",
        "outputId": "e750f3b7-e7db-4a9e-9f3d-bc437594dc49"
      },
      "outputs": [
        {
          "data": {
            "text/plain": [
              "4"
            ]
          },
          "execution_count": 5,
          "metadata": {},
          "output_type": "execute_result"
        }
      ],
      "source": [
        "len(stationary)"
      ]
    },
    {
      "cell_type": "code",
      "execution_count": null,
      "metadata": {
        "colab": {
          "base_uri": "https://localhost:8080/",
          "height": 36
        },
        "id": "LBMFSo-949bL",
        "outputId": "18a7acce-d8a0-4933-d3f7-88774c539d55"
      },
      "outputs": [
        {
          "data": {
            "application/vnd.google.colaboratory.intrinsic+json": {
              "type": "string"
            },
            "text/plain": [
              "'sharpner'"
            ]
          },
          "execution_count": 8,
          "metadata": {},
          "output_type": "execute_result"
        }
      ],
      "source": [
        "stationary.pop(2) # index 1 element will be removed from list\n"
      ]
    },
    {
      "cell_type": "code",
      "execution_count": null,
      "metadata": {
        "colab": {
          "base_uri": "https://localhost:8080/"
        },
        "id": "A6nThrC25XYl",
        "outputId": "7cdc08e7-9d3b-4a86-ea17-636b0a7dcc8a"
      },
      "outputs": [
        {
          "data": {
            "text/plain": [
              "['pen', 'prncil', ['notebook', 'bag']]"
            ]
          },
          "execution_count": 9,
          "metadata": {},
          "output_type": "execute_result"
        }
      ],
      "source": [
        "stationary"
      ]
    },
    {
      "cell_type": "code",
      "execution_count": null,
      "metadata": {
        "id": "MTjZRAtC5jVL"
      },
      "outputs": [],
      "source": [
        "stationary.append('book') # only 1 list element will be added"
      ]
    },
    {
      "cell_type": "code",
      "execution_count": null,
      "metadata": {
        "colab": {
          "base_uri": "https://localhost:8080/"
        },
        "id": "mDGKOtNq50cC",
        "outputId": "ee7a78d6-c22d-4950-e539-b1e5f2b3a89f"
      },
      "outputs": [
        {
          "data": {
            "text/plain": [
              "['pen', 'prncil', ['notebook', 'bag'], 'book']"
            ]
          },
          "execution_count": 11,
          "metadata": {},
          "output_type": "execute_result"
        }
      ],
      "source": [
        "stationary"
      ]
    },
    {
      "cell_type": "code",
      "execution_count": null,
      "metadata": {
        "colab": {
          "base_uri": "https://localhost:8080/",
          "height": 36
        },
        "id": "IDqd_HTt515i",
        "outputId": "687a03f2-8611-4baa-e144-d9b7333365e1"
      },
      "outputs": [
        {
          "data": {
            "application/vnd.google.colaboratory.intrinsic+json": {
              "type": "string"
            },
            "text/plain": [
              "'book'"
            ]
          },
          "execution_count": 13,
          "metadata": {},
          "output_type": "execute_result"
        }
      ],
      "source": [
        "stationary.pop() #if index no. is not mentioned pop() removes the last element"
      ]
    },
    {
      "cell_type": "code",
      "execution_count": null,
      "metadata": {
        "id": "S4CBcN555-4T"
      },
      "outputs": [],
      "source": [
        "# to add multiple items use extend()\n",
        "stationary.extend(['box','computer','school'])\n"
      ]
    },
    {
      "cell_type": "code",
      "execution_count": null,
      "metadata": {
        "colab": {
          "base_uri": "https://localhost:8080/"
        },
        "id": "uqpEgbIn6uts",
        "outputId": "00615858-d274-4979-abfb-05508acdaffc"
      },
      "outputs": [
        {
          "data": {
            "text/plain": [
              "['pen', 'prncil', ['notebook', 'bag'], 'box', 'computer', 'school']"
            ]
          },
          "execution_count": 15,
          "metadata": {},
          "output_type": "execute_result"
        }
      ],
      "source": [
        "stationary"
      ]
    },
    {
      "cell_type": "code",
      "execution_count": null,
      "metadata": {
        "colab": {
          "base_uri": "https://localhost:8080/"
        },
        "id": "x1kePgCh61aD",
        "outputId": "db3f33b3-dde0-473a-d523-f66fa1bdfd3e"
      },
      "outputs": [
        {
          "data": {
            "text/plain": [
              "5"
            ]
          },
          "execution_count": 29,
          "metadata": {},
          "output_type": "execute_result"
        }
      ],
      "source": [
        "len(stationary)"
      ]
    },
    {
      "cell_type": "code",
      "execution_count": null,
      "metadata": {
        "id": "WXJPJzDk633C"
      },
      "outputs": [],
      "source": [
        "stationary.remove('prncil') # will remove mentioned element name from list\n"
      ]
    },
    {
      "cell_type": "code",
      "execution_count": null,
      "metadata": {
        "colab": {
          "base_uri": "https://localhost:8080/"
        },
        "id": "-vsLUgSK7EMB",
        "outputId": "1b070ccd-dc45-499a-d0f9-2eb6276beb58"
      },
      "outputs": [
        {
          "data": {
            "text/plain": [
              "5"
            ]
          },
          "execution_count": 18,
          "metadata": {},
          "output_type": "execute_result"
        }
      ],
      "source": [
        "len(stationary)"
      ]
    },
    {
      "cell_type": "code",
      "execution_count": null,
      "metadata": {
        "colab": {
          "base_uri": "https://localhost:8080/"
        },
        "id": "q_ARJE3C8RXb",
        "outputId": "5a9a38f3-e25a-4341-d67d-bb9c732a0c9c"
      },
      "outputs": [
        {
          "data": {
            "text/plain": [
              "[['notebook', 'bag'], 'box', 'computer']"
            ]
          },
          "execution_count": 36,
          "metadata": {},
          "output_type": "execute_result"
        }
      ],
      "source": [
        "stationary"
      ]
    },
    {
      "cell_type": "code",
      "execution_count": null,
      "metadata": {
        "colab": {
          "base_uri": "https://localhost:8080/"
        },
        "id": "bZs-e1Xt8uez",
        "outputId": "36204d4b-fb98-4255-a243-c38257f9f126"
      },
      "outputs": [
        {
          "data": {
            "text/plain": [
              "2"
            ]
          },
          "execution_count": 37,
          "metadata": {},
          "output_type": "execute_result"
        }
      ],
      "source": [
        "stationary.index('computer')"
      ]
    },
    {
      "cell_type": "code",
      "execution_count": null,
      "metadata": {
        "colab": {
          "base_uri": "https://localhost:8080/"
        },
        "id": "2bgqIvr7-BZi",
        "outputId": "e4e20f26-b175-48d9-f3c9-176b7d51b80b"
      },
      "outputs": [
        {
          "name": "stdout",
          "output_type": "stream",
          "text": [
            "positive\n"
          ]
        }
      ],
      "source": [
        "'''\n",
        "if condition:\n",
        "  -- things to do when condition is true\n",
        "else:\n",
        "  -- things to do when condition is false\n",
        "'''\n",
        "# elif - multiple conditions\n",
        "num=5\n",
        "if num > 0:\n",
        "  print('positive')\n",
        "elif num==0:\n",
        "  print('its zero')\n",
        "else:\n",
        "  print('negitive')\n"
      ]
    },
    {
      "cell_type": "code",
      "execution_count": null,
      "metadata": {
        "colab": {
          "base_uri": "https://localhost:8080/"
        },
        "id": "Wt1Ney0j_2mo",
        "outputId": "088c96e8-3b24-4142-f6e4-20071f1781fa"
      },
      "outputs": [
        {
          "name": "stdout",
          "output_type": "stream",
          "text": [
            "enter your name:Akanksha\n"
          ]
        }
      ],
      "source": [
        "name=input('enter your name:')\n"
      ]
    },
    {
      "cell_type": "code",
      "execution_count": null,
      "metadata": {
        "colab": {
          "base_uri": "https://localhost:8080/",
          "height": 36
        },
        "id": "cRWWRFqPBQYG",
        "outputId": "c72c104a-1d6f-4dcc-d2f8-6eb15ba274ea"
      },
      "outputs": [
        {
          "data": {
            "application/vnd.google.colaboratory.intrinsic+json": {
              "type": "string"
            },
            "text/plain": [
              "'Akanksha'"
            ]
          },
          "execution_count": 7,
          "metadata": {},
          "output_type": "execute_result"
        }
      ],
      "source": [
        "name"
      ]
    },
    {
      "cell_type": "code",
      "execution_count": null,
      "metadata": {
        "colab": {
          "base_uri": "https://localhost:8080/"
        },
        "id": "pzJoMlWHBVq1",
        "outputId": "feeffe9b-2743-4397-bae0-5a928edfcb16"
      },
      "outputs": [
        {
          "name": "stdout",
          "output_type": "stream",
          "text": [
            "enter your marks 90\n"
          ]
        }
      ],
      "source": [
        "marks=input('enter your marks: ')\n"
      ]
    },
    {
      "cell_type": "code",
      "execution_count": null,
      "metadata": {
        "colab": {
          "base_uri": "https://localhost:8080/",
          "height": 36
        },
        "id": "EtJkO2yvBxiN",
        "outputId": "0189fcab-01c0-4cb2-89e7-502609d9acfa"
      },
      "outputs": [
        {
          "data": {
            "application/vnd.google.colaboratory.intrinsic+json": {
              "type": "string"
            },
            "text/plain": [
              "'90'"
            ]
          },
          "execution_count": 9,
          "metadata": {},
          "output_type": "execute_result"
        }
      ],
      "source": [
        "marks"
      ]
    },
    {
      "cell_type": "code",
      "execution_count": null,
      "metadata": {
        "id": "2-7199BGB3Y9"
      },
      "outputs": [],
      "source": [
        "age=34"
      ]
    },
    {
      "cell_type": "code",
      "execution_count": null,
      "metadata": {
        "colab": {
          "base_uri": "https://localhost:8080/"
        },
        "id": "wC4ixyihB68k",
        "outputId": "393a4cbe-b53a-4cee-f52d-43afe99bd0e3"
      },
      "outputs": [
        {
          "data": {
            "text/plain": [
              "34"
            ]
          },
          "execution_count": 11,
          "metadata": {},
          "output_type": "execute_result"
        }
      ],
      "source": [
        "age"
      ]
    },
    {
      "cell_type": "code",
      "execution_count": null,
      "metadata": {
        "colab": {
          "base_uri": "https://localhost:8080/"
        },
        "id": "a7yTvcxXTOCZ",
        "outputId": "7c6b9d34-afdf-4124-8829-ba7fec588cdc"
      },
      "outputs": [
        {
          "name": "stdout",
          "output_type": "stream",
          "text": [
            "enterthe age: 30\n"
          ]
        }
      ],
      "source": [
        "# output is coming in quotation i.e. it is treated as string. You have to convert it to number.\n",
        "# instead of doing it in 2 steps, while accepting input only we can convert it to integer.\n",
        "age=int(input(\"enterthe age: \"))\n"
      ]
    },
    {
      "cell_type": "code",
      "execution_count": null,
      "metadata": {
        "colab": {
          "base_uri": "https://localhost:8080/"
        },
        "id": "0_qsJMLhTblg",
        "outputId": "318b843f-8cc7-4128-c789-60b149a668fa"
      },
      "outputs": [
        {
          "data": {
            "text/plain": [
              "30"
            ]
          },
          "execution_count": 3,
          "metadata": {},
          "output_type": "execute_result"
        }
      ],
      "source": [
        "age\n"
      ]
    },
    {
      "cell_type": "code",
      "execution_count": null,
      "metadata": {
        "colab": {
          "base_uri": "https://localhost:8080/"
        },
        "id": "PgJNqBlvTlZF",
        "outputId": "11bd74f4-2766-4e5c-c138-1985ada30069"
      },
      "outputs": [
        {
          "data": {
            "text/plain": [
              "35"
            ]
          },
          "execution_count": 4,
          "metadata": {},
          "output_type": "execute_result"
        }
      ],
      "source": [
        "age + 5"
      ]
    },
    {
      "cell_type": "code",
      "execution_count": null,
      "metadata": {
        "colab": {
          "base_uri": "https://localhost:8080/"
        },
        "id": "it_cSO5ATnLm",
        "outputId": "e0ddba1f-5389-422b-becf-e30b06cc8726"
      },
      "outputs": [
        {
          "name": "stdout",
          "output_type": "stream",
          "text": [
            "Enter the number: 65\n",
            "65\n",
            "sorry ,try again\n"
          ]
        }
      ],
      "source": [
        "# accept a number from user, if it is divisible by 7 display \"You win\" else display \"Sorry, try again\"\n",
        "num=int(input(\"Enter the number: \"))\n",
        "print(num)\n",
        "if num % 7==0:\n",
        "  print(\"you won, it is divisible by zero\")\n",
        "else:\n",
        "  print(\"sorry ,try again\")\n"
      ]
    },
    {
      "cell_type": "code",
      "execution_count": null,
      "metadata": {
        "colab": {
          "base_uri": "https://localhost:8080/"
        },
        "id": "0BMUl1nyVbc_",
        "outputId": "60a4e895-e484-4275-bd82-407cce875d2c"
      },
      "outputs": [
        {
          "name": "stdout",
          "output_type": "stream",
          "text": [
            "enter marks:40\n",
            "40\n",
            "pass\n"
          ]
        }
      ],
      "source": [
        "# accept marks, if marks>=80 print \"Distinction\", if between 60-80 print \"First class\",\n",
        "# if between 40-60 print \"Pass\", if less than 40 print\"Fail\"\n",
        "marks=int(input(\"enter marks:\"))\n",
        "print(marks)\n",
        "if marks>=80:\n",
        "  print(\"Distinction\")\n",
        "elif marks>=60:\n",
        "  print(\"first class\")\n",
        "elif marks>=40:\n",
        "  print(\"pass\")\n",
        "else:\n",
        "  print(\"fail\")\n"
      ]
    },
    {
      "cell_type": "code",
      "execution_count": null,
      "metadata": {
        "colab": {
          "base_uri": "https://localhost:8080/"
        },
        "id": "D3S1FYpPXd8X",
        "outputId": "49274810-c832-48e8-e1b8-1bafe8b1f793"
      },
      "outputs": [
        {
          "name": "stdout",
          "output_type": "stream",
          "text": [
            "90 -->Distinction\n",
            "86 -->Distinction\n",
            "75 -->first class\n",
            "63 -->first class\n",
            "52 -->pass\n",
            "41 -->pass\n",
            "30 -->fail\n",
            "22 -->fail\n"
          ]
        }
      ],
      "source": [
        "marklist=[90,86,75,63,52,41,30,22]\n",
        "for marks in marklist:\n",
        "  if marks>=80:\n",
        "    print(marks, \"-->Distinction\")\n",
        "  elif marks>=60:\n",
        "    print(marks, \"-->first class\")\n",
        "  elif marks>=40:\n",
        "    print(marks, \"-->pass\")\n",
        "  else:\n",
        "    print(marks, \"-->fail\")\n"
      ]
    },
    {
      "cell_type": "code",
      "execution_count": null,
      "metadata": {
        "colab": {
          "base_uri": "https://localhost:8080/"
        },
        "id": "_w82fNcqpHRL",
        "outputId": "2a7ac0d9-983d-4fae-86d4-4c5e7a3c8477"
      },
      "outputs": [
        {
          "output_type": "stream",
          "name": "stdout",
          "text": [
            "hello\n",
            "hello\n",
            "hello\n",
            "hello\n",
            "hello\n"
          ]
        }
      ],
      "source": [
        "# while loop : print hello for 5 time\n",
        "cnt=1\n",
        "while cnt < 6:\n",
        "   print(\"hello\")\n",
        "   cnt = cnt+1"
      ]
    },
    {
      "cell_type": "markdown",
      "source": [
        "# Write user define function ."
      ],
      "metadata": {
        "id": "g_T0f9ee4ZH5"
      }
    },
    {
      "cell_type": "code",
      "source": [
        "#write a square function\n",
        "#function defination\n",
        "def square(x):\n",
        "  return x * x #or return x ** 2.\n"
      ],
      "metadata": {
        "id": "fCpFBCyN4XbK"
      },
      "execution_count": null,
      "outputs": []
    },
    {
      "cell_type": "code",
      "source": [
        "square(2)"
      ],
      "metadata": {
        "colab": {
          "base_uri": "https://localhost:8080/"
        },
        "id": "KJJwxTah5LGK",
        "outputId": "fe34796e-99fe-44a7-9d03-24b9ea6e3593"
      },
      "execution_count": null,
      "outputs": [
        {
          "output_type": "execute_result",
          "data": {
            "text/plain": [
              "4"
            ]
          },
          "metadata": {},
          "execution_count": 138
        }
      ]
    },
    {
      "cell_type": "code",
      "source": [
        "square(264)"
      ],
      "metadata": {
        "colab": {
          "base_uri": "https://localhost:8080/"
        },
        "id": "S2Ng2vJ85OUx",
        "outputId": "3f35fa72-5b63-4af9-88f2-ce6393a558eb"
      },
      "execution_count": null,
      "outputs": [
        {
          "output_type": "execute_result",
          "data": {
            "text/plain": [
              "69696"
            ]
          },
          "metadata": {},
          "execution_count": 139
        }
      ]
    },
    {
      "cell_type": "code",
      "source": [
        "# write a function calc_grade(marks)\n",
        "def calc_grade(marks):\n",
        "  if marks>=80:\n",
        "    grade = \"Distinction\"\n",
        "  elif marks>=60:\n",
        "    grade = \"first class\"\n",
        "  elif marks>=40:\n",
        "    grade = \"pass\"\n",
        "  else:\n",
        "    grade = \"fail\"\n",
        "  return grade # it should be aligned with if"
      ],
      "metadata": {
        "id": "NcIYupzk5Tep"
      },
      "execution_count": null,
      "outputs": []
    },
    {
      "cell_type": "code",
      "source": [
        "calc_grade(82)"
      ],
      "metadata": {
        "colab": {
          "base_uri": "https://localhost:8080/",
          "height": 36
        },
        "id": "r4Dr31Wy61PC",
        "outputId": "f67d9f1b-2975-49ed-a7a3-a33ee76390cb"
      },
      "execution_count": null,
      "outputs": [
        {
          "output_type": "execute_result",
          "data": {
            "text/plain": [
              "'Distinction'"
            ],
            "application/vnd.google.colaboratory.intrinsic+json": {
              "type": "string"
            }
          },
          "metadata": {},
          "execution_count": 141
        }
      ]
    },
    {
      "cell_type": "code",
      "source": [
        "# List of Strings\n",
        "list3=[\"Mango\",\"Apple\",\"Banana\",\"pineapple\",\"custerd apple\",\"Strawberry\"]\n",
        "list3\n"
      ],
      "metadata": {
        "colab": {
          "base_uri": "https://localhost:8080/"
        },
        "id": "_9fNf0R57G2o",
        "outputId": "7942ca7c-cd49-4161-b484-c1cfe73a3339"
      },
      "execution_count": null,
      "outputs": [
        {
          "output_type": "execute_result",
          "data": {
            "text/plain": [
              "['Mango', 'Apple', 'Banana', 'pineapple', 'custerd apple', 'Strawberry']"
            ]
          },
          "metadata": {},
          "execution_count": 142
        }
      ]
    },
    {
      "cell_type": "code",
      "source": [
        "# Display fruits by changing case of all fruits to uppercase\n",
        "for fruits in list3:\n",
        "  #print(fruits.lower()) # in sigle line: print(fruit.upper(),end=\" \")\n",
        "   print(fruits.upper(),end=\"  \")"
      ],
      "metadata": {
        "id": "k2n-8Wr6BRzi",
        "colab": {
          "base_uri": "https://localhost:8080/"
        },
        "outputId": "c444fa12-6807-405d-90e3-1e87a7069d4a"
      },
      "execution_count": null,
      "outputs": [
        {
          "output_type": "stream",
          "name": "stdout",
          "text": [
            "MANGO  APPLE  BANANA  PINEAPPLE  CUSTERD APPLE  STRAWBERRY  "
          ]
        }
      ]
    },
    {
      "cell_type": "code",
      "source": [
        "# In Python Indexing starts with 0\n",
        "list3"
      ],
      "metadata": {
        "id": "cLWkjAscC-iT",
        "colab": {
          "base_uri": "https://localhost:8080/"
        },
        "outputId": "c87eea68-17dc-4921-fe86-6629c5a75247"
      },
      "execution_count": null,
      "outputs": [
        {
          "output_type": "execute_result",
          "data": {
            "text/plain": [
              "['Mango', 'Apple', 'Banana', 'pineapple', 'custerd apple', 'Strawberry']"
            ]
          },
          "metadata": {},
          "execution_count": 144
        }
      ]
    },
    {
      "cell_type": "code",
      "source": [
        "list3[4]"
      ],
      "metadata": {
        "colab": {
          "base_uri": "https://localhost:8080/",
          "height": 36
        },
        "id": "HSxDKovyExEK",
        "outputId": "4c4a1bfc-04e5-4ed1-ad70-571c49ab7bd6"
      },
      "execution_count": null,
      "outputs": [
        {
          "output_type": "execute_result",
          "data": {
            "text/plain": [
              "'custerd apple'"
            ],
            "application/vnd.google.colaboratory.intrinsic+json": {
              "type": "string"
            }
          },
          "metadata": {},
          "execution_count": 145
        }
      ]
    },
    {
      "cell_type": "code",
      "source": [
        "list3.count(\"Banana\")"
      ],
      "metadata": {
        "colab": {
          "base_uri": "https://localhost:8080/"
        },
        "id": "GBeTJjGKE0g6",
        "outputId": "96d27bc2-c74c-4a22-ecbe-3fcddd956da8"
      },
      "execution_count": null,
      "outputs": [
        {
          "output_type": "execute_result",
          "data": {
            "text/plain": [
              "1"
            ]
          },
          "metadata": {},
          "execution_count": 146
        }
      ]
    },
    {
      "cell_type": "code",
      "source": [
        "list3.count(\"Mmango\")"
      ],
      "metadata": {
        "colab": {
          "base_uri": "https://localhost:8080/"
        },
        "id": "cZz-9txpFMyZ",
        "outputId": "287c3a77-cabf-409b-c94a-b48dbcfa3d08"
      },
      "execution_count": null,
      "outputs": [
        {
          "output_type": "execute_result",
          "data": {
            "text/plain": [
              "0"
            ]
          },
          "metadata": {},
          "execution_count": 147
        }
      ]
    },
    {
      "cell_type": "code",
      "source": [
        "# Slicing\n",
        "list3[0:4]"
      ],
      "metadata": {
        "colab": {
          "base_uri": "https://localhost:8080/"
        },
        "id": "7XnKaGu-FgbZ",
        "outputId": "95f6f7de-ff1d-470c-9d01-33696abd1b0e"
      },
      "execution_count": null,
      "outputs": [
        {
          "output_type": "execute_result",
          "data": {
            "text/plain": [
              "['Mango', 'Apple', 'Banana', 'pineapple']"
            ]
          },
          "metadata": {},
          "execution_count": 148
        }
      ]
    },
    {
      "cell_type": "code",
      "source": [
        "# from Apple to Strawberry i.e. till end\n",
        "list3[1:]# or list3[1:6]"
      ],
      "metadata": {
        "colab": {
          "base_uri": "https://localhost:8080/"
        },
        "id": "8iCB_FPEGOdx",
        "outputId": "e9e85f97-72f8-44f6-e22c-e0b285a04a5b"
      },
      "execution_count": null,
      "outputs": [
        {
          "output_type": "execute_result",
          "data": {
            "text/plain": [
              "['Apple', 'Banana', 'pineapple', 'custerd apple', 'Strawberry']"
            ]
          },
          "metadata": {},
          "execution_count": 149
        }
      ]
    },
    {
      "cell_type": "code",
      "source": [
        "# from begning to pinapple\n",
        "list3[:4]# or list3[1:4]"
      ],
      "metadata": {
        "colab": {
          "base_uri": "https://localhost:8080/"
        },
        "id": "yRp-2enLGXdx",
        "outputId": "77d225fa-561c-4489-a00e-0b9b64b8f96b"
      },
      "execution_count": null,
      "outputs": [
        {
          "output_type": "execute_result",
          "data": {
            "text/plain": [
              "['Mango', 'Apple', 'Banana', 'pineapple']"
            ]
          },
          "metadata": {},
          "execution_count": 150
        }
      ]
    },
    {
      "cell_type": "code",
      "source": [
        "list3[-4::-1] #start,end,steplisy"
      ],
      "metadata": {
        "colab": {
          "base_uri": "https://localhost:8080/"
        },
        "id": "lK5qIM7MGjrC",
        "outputId": "0ccc2b6e-a80b-4d23-ea14-f9bdfff4495b"
      },
      "execution_count": null,
      "outputs": [
        {
          "output_type": "execute_result",
          "data": {
            "text/plain": [
              "['Banana', 'Apple', 'Mango']"
            ]
          },
          "metadata": {},
          "execution_count": 151
        }
      ]
    },
    {
      "cell_type": "code",
      "source": [
        "list3[-1]"
      ],
      "metadata": {
        "colab": {
          "base_uri": "https://localhost:8080/",
          "height": 36
        },
        "id": "nyo61C7BHIW5",
        "outputId": "5f34ec03-1f1b-4836-e76b-eab8f260f812"
      },
      "execution_count": null,
      "outputs": [
        {
          "output_type": "execute_result",
          "data": {
            "text/plain": [
              "'Strawberry'"
            ],
            "application/vnd.google.colaboratory.intrinsic+json": {
              "type": "string"
            }
          },
          "metadata": {},
          "execution_count": 152
        }
      ]
    },
    {
      "cell_type": "code",
      "source": [
        "list3[-3]"
      ],
      "metadata": {
        "colab": {
          "base_uri": "https://localhost:8080/",
          "height": 36
        },
        "id": "MnY6daMhJ3QB",
        "outputId": "01672d2a-098c-46bf-9b26-a29045a9a2a1"
      },
      "execution_count": null,
      "outputs": [
        {
          "output_type": "execute_result",
          "data": {
            "text/plain": [
              "'pineapple'"
            ],
            "application/vnd.google.colaboratory.intrinsic+json": {
              "type": "string"
            }
          },
          "metadata": {},
          "execution_count": 153
        }
      ]
    },
    {
      "cell_type": "code",
      "source": [
        "list3[-5]"
      ],
      "metadata": {
        "colab": {
          "base_uri": "https://localhost:8080/",
          "height": 36
        },
        "id": "FNLTeQG0KErJ",
        "outputId": "e3dc470e-bf49-4228-daaa-b109107cc3a5"
      },
      "execution_count": null,
      "outputs": [
        {
          "output_type": "execute_result",
          "data": {
            "text/plain": [
              "'Apple'"
            ],
            "application/vnd.google.colaboratory.intrinsic+json": {
              "type": "string"
            }
          },
          "metadata": {},
          "execution_count": 154
        }
      ]
    },
    {
      "cell_type": "code",
      "source": [
        "# start stop step in slicing\n",
        "print(list3)\n",
        "list3[::2]# 0,2,4"
      ],
      "metadata": {
        "colab": {
          "base_uri": "https://localhost:8080/"
        },
        "id": "H5CyFxndKLLT",
        "outputId": "01dff613-1260-427d-b0a9-224ab6612e0f"
      },
      "execution_count": null,
      "outputs": [
        {
          "output_type": "stream",
          "name": "stdout",
          "text": [
            "['Mango', 'Apple', 'Banana', 'pineapple', 'custerd apple', 'Strawberry']\n"
          ]
        },
        {
          "output_type": "execute_result",
          "data": {
            "text/plain": [
              "['Mango', 'Banana', 'custerd apple']"
            ]
          },
          "metadata": {},
          "execution_count": 155
        }
      ]
    },
    {
      "cell_type": "code",
      "source": [
        "n1=list(range(1,31))\n",
        "print(n1)"
      ],
      "metadata": {
        "colab": {
          "base_uri": "https://localhost:8080/"
        },
        "id": "tKwSC5fILNAC",
        "outputId": "1edff523-7655-4568-90b2-a48819bb758e"
      },
      "execution_count": null,
      "outputs": [
        {
          "output_type": "stream",
          "name": "stdout",
          "text": [
            "[1, 2, 3, 4, 5, 6, 7, 8, 9, 10, 11, 12, 13, 14, 15, 16, 17, 18, 19, 20, 21, 22, 23, 24, 25, 26, 27, 28, 29, 30]\n"
          ]
        }
      ]
    },
    {
      "cell_type": "code",
      "source": [
        "n1[::4]"
      ],
      "metadata": {
        "colab": {
          "base_uri": "https://localhost:8080/"
        },
        "id": "Ce1SrMQQLdW5",
        "outputId": "456e47f0-f6da-4082-8d90-9d714901eff7"
      },
      "execution_count": null,
      "outputs": [
        {
          "output_type": "execute_result",
          "data": {
            "text/plain": [
              "[1, 5, 9, 13, 17, 21, 25, 29]"
            ]
          },
          "metadata": {},
          "execution_count": 157
        }
      ]
    },
    {
      "cell_type": "code",
      "source": [
        "# print nos from index 2 to 26 with step value of 5\n",
        "n1[2:26:5]"
      ],
      "metadata": {
        "colab": {
          "base_uri": "https://localhost:8080/"
        },
        "id": "jCbOeTXuMCAi",
        "outputId": "da283e3b-745f-411f-84a6-88816934a2cb"
      },
      "execution_count": null,
      "outputs": [
        {
          "output_type": "execute_result",
          "data": {
            "text/plain": [
              "[3, 8, 13, 18, 23]"
            ]
          },
          "metadata": {},
          "execution_count": 158
        }
      ]
    },
    {
      "cell_type": "code",
      "source": [
        "print(list3)"
      ],
      "metadata": {
        "colab": {
          "base_uri": "https://localhost:8080/"
        },
        "id": "xQ_v-TmVMahx",
        "outputId": "1bee1d91-cd0a-449d-aea5-91783dda1c50"
      },
      "execution_count": null,
      "outputs": [
        {
          "output_type": "stream",
          "name": "stdout",
          "text": [
            "['Mango', 'Apple', 'Banana', 'pineapple', 'custerd apple', 'Strawberry']\n"
          ]
        }
      ]
    },
    {
      "cell_type": "code",
      "source": [
        "list3[::-1]"
      ],
      "metadata": {
        "colab": {
          "base_uri": "https://localhost:8080/"
        },
        "id": "k-Xjhhh2Mdzh",
        "outputId": "e44369c3-7fd2-49c2-ac28-bd1276f83437"
      },
      "execution_count": null,
      "outputs": [
        {
          "output_type": "execute_result",
          "data": {
            "text/plain": [
              "['Strawberry', 'custerd apple', 'pineapple', 'Banana', 'Apple', 'Mango']"
            ]
          },
          "metadata": {},
          "execution_count": 160
        }
      ]
    },
    {
      "cell_type": "code",
      "source": [
        "list3[::-2] # step value is -2"
      ],
      "metadata": {
        "colab": {
          "base_uri": "https://localhost:8080/"
        },
        "id": "tBWxkFjONIeB",
        "outputId": "7937fba0-4602-4cc4-a3c5-6be823625b65"
      },
      "execution_count": null,
      "outputs": [
        {
          "output_type": "execute_result",
          "data": {
            "text/plain": [
              "['Strawberry', 'pineapple', 'Apple']"
            ]
          },
          "metadata": {},
          "execution_count": 161
        }
      ]
    },
    {
      "cell_type": "code",
      "source": [
        "# use of 'in' keyword: search substring in given word\n",
        "\"the\" in \"Netherland\""
      ],
      "metadata": {
        "colab": {
          "base_uri": "https://localhost:8080/"
        },
        "id": "84sfP6rcNNKB",
        "outputId": "ea8b7141-3192-4ce9-9cbd-d016b5e8cb7f"
      },
      "execution_count": null,
      "outputs": [
        {
          "output_type": "execute_result",
          "data": {
            "text/plain": [
              "True"
            ]
          },
          "metadata": {},
          "execution_count": 162
        }
      ]
    },
    {
      "cell_type": "code",
      "source": [
        "\"The\" in \"Netherland\""
      ],
      "metadata": {
        "colab": {
          "base_uri": "https://localhost:8080/"
        },
        "id": "v2carINVOIFi",
        "outputId": "f0326add-c170-41c2-b7fd-4a9b2b61b0f2"
      },
      "execution_count": null,
      "outputs": [
        {
          "output_type": "execute_result",
          "data": {
            "text/plain": [
              "False"
            ]
          },
          "metadata": {},
          "execution_count": 163
        }
      ]
    },
    {
      "cell_type": "code",
      "source": [
        "list3"
      ],
      "metadata": {
        "colab": {
          "base_uri": "https://localhost:8080/"
        },
        "id": "qfxlZ5InOgJj",
        "outputId": "53d63a5f-4ba6-4ddc-caf1-46cdef8cb05e"
      },
      "execution_count": null,
      "outputs": [
        {
          "output_type": "execute_result",
          "data": {
            "text/plain": [
              "['Mango', 'Apple', 'Banana', 'pineapple', 'custerd apple', 'Strawberry']"
            ]
          },
          "metadata": {},
          "execution_count": 164
        }
      ]
    },
    {
      "cell_type": "code",
      "source": [
        "list3.append(\"mulberry\")"
      ],
      "metadata": {
        "id": "QE7wHuj4RrAz"
      },
      "execution_count": null,
      "outputs": []
    },
    {
      "cell_type": "code",
      "source": [
        "list3"
      ],
      "metadata": {
        "colab": {
          "base_uri": "https://localhost:8080/"
        },
        "id": "XU7E21fqR33y",
        "outputId": "b27c8f7a-9162-41f9-8df3-f70e60c6d32c"
      },
      "execution_count": null,
      "outputs": [
        {
          "output_type": "execute_result",
          "data": {
            "text/plain": [
              "['Mango',\n",
              " 'Apple',\n",
              " 'Banana',\n",
              " 'pineapple',\n",
              " 'custerd apple',\n",
              " 'Strawberry',\n",
              " 'mulberry']"
            ]
          },
          "metadata": {},
          "execution_count": 166
        }
      ]
    },
    {
      "cell_type": "code",
      "source": [
        "list3.remove(\"mulberry\") # removes mentioned elementm"
      ],
      "metadata": {
        "id": "4FuNNVWGR6ji"
      },
      "execution_count": null,
      "outputs": []
    },
    {
      "cell_type": "code",
      "source": [
        "# display fruits which contain substring as 'berry' using for loop\n",
        "for fruit in list3:\n",
        "  if 'berry' in fruit:\n",
        "    print(fruit)"
      ],
      "metadata": {
        "colab": {
          "base_uri": "https://localhost:8080/"
        },
        "id": "uGQ30zGjSq5a",
        "outputId": "642778fd-a6c7-4d75-833f-1a2f375d2013"
      },
      "execution_count": null,
      "outputs": [
        {
          "output_type": "stream",
          "name": "stdout",
          "text": [
            "Strawberry\n"
          ]
        }
      ]
    },
    {
      "cell_type": "code",
      "source": [
        "for fruit in list3:\n",
        "  if 'pple' in fruit:\n",
        "    print(fruit)"
      ],
      "metadata": {
        "colab": {
          "base_uri": "https://localhost:8080/"
        },
        "id": "K17odHprTUA6",
        "outputId": "0a01e382-89ae-40e2-fe73-cdc79d14129b"
      },
      "execution_count": null,
      "outputs": [
        {
          "output_type": "stream",
          "name": "stdout",
          "text": [
            "Apple\n",
            "pineapple\n",
            "custerd apple\n"
          ]
        }
      ]
    },
    {
      "cell_type": "code",
      "source": [
        "list3.append(\"Black berry\")"
      ],
      "metadata": {
        "id": "Sno1raOtUrc7"
      },
      "execution_count": null,
      "outputs": []
    },
    {
      "cell_type": "code",
      "source": [
        "list3"
      ],
      "metadata": {
        "colab": {
          "base_uri": "https://localhost:8080/"
        },
        "id": "2WXISfyJUyny",
        "outputId": "447fa8f1-3f31-4ec6-8e61-5bc0f46d4775"
      },
      "execution_count": null,
      "outputs": [
        {
          "output_type": "execute_result",
          "data": {
            "text/plain": [
              "['Mango',\n",
              " 'Apple',\n",
              " 'Banana',\n",
              " 'pineapple',\n",
              " 'custerd apple',\n",
              " 'Strawberry',\n",
              " 'Black berry']"
            ]
          },
          "metadata": {},
          "execution_count": 171
        }
      ]
    },
    {
      "cell_type": "code",
      "source": [
        "# imp quation\n",
        "input_string = 'python'\n",
        "for i in range(1,len(input_string)+1):\n",
        "  print(input_string[:i])\n"
      ],
      "metadata": {
        "colab": {
          "base_uri": "https://localhost:8080/"
        },
        "id": "-PwW-Gs3VG1r",
        "outputId": "2c29316a-9299-40bd-f234-ea3045e470af"
      },
      "execution_count": null,
      "outputs": [
        {
          "output_type": "stream",
          "name": "stdout",
          "text": [
            "p\n",
            "py\n",
            "pyt\n",
            "pyth\n",
            "pytho\n",
            "python\n"
          ]
        }
      ]
    },
    {
      "cell_type": "code",
      "source": [
        "# Create list4 of fruits from list3 having only 'berry' as substring and store remaining fruits in list5\n",
        "list4=[]\n",
        "list5=[]\n",
        "for fruits in list3:\n",
        "  if \"berry\" in fruits:\n",
        "    list4.append(fruits)\n",
        "  else:\n",
        "    list5.append(fruits)\n",
        "print(list4,end=\"  \")\n",
        "print(list5,end=\"  \")\n"
      ],
      "metadata": {
        "colab": {
          "base_uri": "https://localhost:8080/"
        },
        "id": "EqVMG5BsV4xL",
        "outputId": "94d89e3c-632d-481c-df52-27ab42b4e21f"
      },
      "execution_count": null,
      "outputs": [
        {
          "output_type": "stream",
          "name": "stdout",
          "text": [
            "['Strawberry', 'Black berry']  ['Mango', 'Apple', 'Banana', 'pineapple', 'custerd apple']  "
          ]
        }
      ]
    },
    {
      "cell_type": "code",
      "source": [
        "# print squares of all numbers of list1 to list2\n",
        "l1=[1,2,3,4,5,6]\n",
        "l2=[]\n",
        "for i in l1:\n",
        "  l2.append(i**2)  # OR l2.append(i*i)\n",
        "print(l1)\n",
        "print(l2)\n",
        "\n"
      ],
      "metadata": {
        "colab": {
          "base_uri": "https://localhost:8080/"
        },
        "id": "AdaLSVNEXm9y",
        "outputId": "fd11f929-00a4-4ce3-b2c8-afd4e14fc442"
      },
      "execution_count": null,
      "outputs": [
        {
          "output_type": "stream",
          "name": "stdout",
          "text": [
            "[1, 2, 3, 4, 5, 6]\n",
            "[1, 4, 9, 16, 25, 36]\n"
          ]
        }
      ]
    },
    {
      "cell_type": "code",
      "source": [
        "# List comprehension - makes your code compact\n",
        "l1=[1,2,3,4,5,6]\n",
        "l2=[ i**2 for i in l1]\n",
        "print(l1)\n",
        "print(l2)\n"
      ],
      "metadata": {
        "colab": {
          "base_uri": "https://localhost:8080/"
        },
        "id": "GZHH09kTaieU",
        "outputId": "c7a158e4-d57f-491c-827f-2caa37a13c56"
      },
      "execution_count": null,
      "outputs": [
        {
          "output_type": "stream",
          "name": "stdout",
          "text": [
            "[1, 2, 3, 4, 5, 6]\n",
            "[1, 4, 9, 16, 25, 36]\n"
          ]
        }
      ]
    },
    {
      "cell_type": "code",
      "source": [
        "list3"
      ],
      "metadata": {
        "colab": {
          "base_uri": "https://localhost:8080/"
        },
        "id": "vfl_c7m2bFpK",
        "outputId": "639723e8-defa-4e1b-fcc0-167d174e3723"
      },
      "execution_count": null,
      "outputs": [
        {
          "output_type": "execute_result",
          "data": {
            "text/plain": [
              "['Mango',\n",
              " 'Apple',\n",
              " 'Banana',\n",
              " 'pineapple',\n",
              " 'custerd apple',\n",
              " 'Strawberry',\n",
              " 'Black berry']"
            ]
          },
          "metadata": {},
          "execution_count": 176
        }
      ]
    },
    {
      "cell_type": "code",
      "source": [
        "# extract fruit names containing substring 'berry' using List comprehension\n",
        "newlilst=[fruit for fruit in list3 if \"berry\" in fruit]"
      ],
      "metadata": {
        "id": "FKJ9VFWDbtVU"
      },
      "execution_count": null,
      "outputs": []
    },
    {
      "cell_type": "code",
      "source": [
        "newlilst"
      ],
      "metadata": {
        "colab": {
          "base_uri": "https://localhost:8080/"
        },
        "id": "c504ZPt-cRFL",
        "outputId": "49d2cc0b-2ff7-4489-86fe-b05c25ffe080"
      },
      "execution_count": null,
      "outputs": [
        {
          "output_type": "execute_result",
          "data": {
            "text/plain": [
              "['Strawberry', 'Black berry']"
            ]
          },
          "metadata": {},
          "execution_count": 178
        }
      ]
    },
    {
      "cell_type": "code",
      "source": [
        "newllist1=[i for i in list3 if \"berry\" not in i]"
      ],
      "metadata": {
        "id": "OuUWsXJycWya"
      },
      "execution_count": null,
      "outputs": []
    },
    {
      "cell_type": "code",
      "source": [
        "newllist1"
      ],
      "metadata": {
        "colab": {
          "base_uri": "https://localhost:8080/"
        },
        "id": "wk7MZTEycwQi",
        "outputId": "bb45384b-1ef0-4ee3-b11a-625a3f0f7c5a"
      },
      "execution_count": null,
      "outputs": [
        {
          "output_type": "execute_result",
          "data": {
            "text/plain": [
              "['Mango', 'Apple', 'Banana', 'pineapple', 'custerd apple']"
            ]
          },
          "metadata": {},
          "execution_count": 180
        }
      ]
    },
    {
      "cell_type": "code",
      "source": [
        "list3"
      ],
      "metadata": {
        "colab": {
          "base_uri": "https://localhost:8080/"
        },
        "id": "eH0xRDamhP0F",
        "outputId": "020023c8-daf8-4cd0-91c1-15391b963cd2"
      },
      "execution_count": null,
      "outputs": [
        {
          "output_type": "execute_result",
          "data": {
            "text/plain": [
              "['Mango',\n",
              " 'Apple',\n",
              " 'Banana',\n",
              " 'pineapple',\n",
              " 'custerd apple',\n",
              " 'Strawberry',\n",
              " 'Black berry']"
            ]
          },
          "metadata": {},
          "execution_count": 181
        }
      ]
    },
    {
      "cell_type": "code",
      "source": [
        "list3.index(\"Banana\")"
      ],
      "metadata": {
        "colab": {
          "base_uri": "https://localhost:8080/"
        },
        "id": "XQ4VUSaShVTX",
        "outputId": "33bcf9fe-9613-41d9-9b37-e2f5d595234e"
      },
      "execution_count": null,
      "outputs": [
        {
          "output_type": "execute_result",
          "data": {
            "text/plain": [
              "2"
            ]
          },
          "metadata": {},
          "execution_count": 182
        }
      ]
    },
    {
      "cell_type": "code",
      "source": [
        "list3.index(\"Black berry\")"
      ],
      "metadata": {
        "colab": {
          "base_uri": "https://localhost:8080/"
        },
        "id": "MYysTqm4hm8v",
        "outputId": "665c4558-0214-4e8b-c367-ef4f89b8cc85"
      },
      "execution_count": null,
      "outputs": [
        {
          "output_type": "execute_result",
          "data": {
            "text/plain": [
              "6"
            ]
          },
          "metadata": {},
          "execution_count": 183
        }
      ]
    },
    {
      "cell_type": "code",
      "source": [
        "print(list3,end=\"  \")"
      ],
      "metadata": {
        "colab": {
          "base_uri": "https://localhost:8080/"
        },
        "id": "v-desSg4h96k",
        "outputId": "a1256a5c-5299-4882-ae2f-04b30158eb2a"
      },
      "execution_count": null,
      "outputs": [
        {
          "output_type": "stream",
          "name": "stdout",
          "text": [
            "['Mango', 'Apple', 'Banana', 'pineapple', 'custerd apple', 'Strawberry', 'Black berry']  "
          ]
        }
      ]
    },
    {
      "cell_type": "code",
      "source": [
        "list3"
      ],
      "metadata": {
        "colab": {
          "base_uri": "https://localhost:8080/"
        },
        "id": "P_f6UxckiKB8",
        "outputId": "ce7c441b-da51-422e-e100-e0454505741f"
      },
      "execution_count": null,
      "outputs": [
        {
          "output_type": "execute_result",
          "data": {
            "text/plain": [
              "['Mango',\n",
              " 'Apple',\n",
              " 'Banana',\n",
              " 'pineapple',\n",
              " 'custerd apple',\n",
              " 'Strawberry',\n",
              " 'Black berry']"
            ]
          },
          "metadata": {},
          "execution_count": 185
        }
      ]
    },
    {
      "cell_type": "code",
      "source": [
        "# index 2 item was banana which is replaced by Orange\n",
        "# Lists are mutable - you can replace items of list\n",
        "list3[2]=\"orange\""
      ],
      "metadata": {
        "id": "gZ2x5z9eiXVK"
      },
      "execution_count": null,
      "outputs": []
    },
    {
      "cell_type": "code",
      "source": [
        "list3"
      ],
      "metadata": {
        "colab": {
          "base_uri": "https://localhost:8080/"
        },
        "id": "x8vLeUxXirOR",
        "outputId": "54d65fce-7045-4bd2-f8df-08baf44429c8"
      },
      "execution_count": null,
      "outputs": [
        {
          "output_type": "execute_result",
          "data": {
            "text/plain": [
              "['Mango',\n",
              " 'Apple',\n",
              " 'orange',\n",
              " 'pineapple',\n",
              " 'custerd apple',\n",
              " 'Strawberry',\n",
              " 'Black berry']"
            ]
          },
          "metadata": {},
          "execution_count": 188
        }
      ]
    },
    {
      "cell_type": "code",
      "source": [
        "# Data Structure: 2.TUPLE\n",
        "# Tuples are not mutable i.e. immutable\n",
        "# created using round brackets ()\n",
        "t1=(20,30,40,50,60)\n",
        "t1"
      ],
      "metadata": {
        "colab": {
          "base_uri": "https://localhost:8080/"
        },
        "id": "XzrnkIJwiyzZ",
        "outputId": "bbc5a16b-8a22-4753-d11b-34208fc702e8"
      },
      "execution_count": null,
      "outputs": [
        {
          "output_type": "execute_result",
          "data": {
            "text/plain": [
              "(20, 30, 40, 50, 60)"
            ]
          },
          "metadata": {},
          "execution_count": 192
        }
      ]
    },
    {
      "cell_type": "code",
      "source": [
        "type(t1)"
      ],
      "metadata": {
        "colab": {
          "base_uri": "https://localhost:8080/"
        },
        "id": "-uZP7Hy9jeVV",
        "outputId": "156db906-0a5f-4c3f-9a5a-348c71ef94d7"
      },
      "execution_count": null,
      "outputs": [
        {
          "output_type": "execute_result",
          "data": {
            "text/plain": [
              "tuple"
            ]
          },
          "metadata": {},
          "execution_count": 193
        }
      ]
    },
    {
      "cell_type": "code",
      "source": [
        "t1[3]"
      ],
      "metadata": {
        "colab": {
          "base_uri": "https://localhost:8080/"
        },
        "id": "9KFGvPknjeN4",
        "outputId": "3a096417-da20-472f-df73-557d94d88004"
      },
      "execution_count": null,
      "outputs": [
        {
          "output_type": "execute_result",
          "data": {
            "text/plain": [
              "50"
            ]
          },
          "metadata": {},
          "execution_count": 194
        }
      ]
    },
    {
      "cell_type": "code",
      "source": [
        "t1[0]=100 # will raise an error as tuples are immutable"
      ],
      "metadata": {
        "id": "CPGqE49ij5Yo"
      },
      "execution_count": null,
      "outputs": []
    },
    {
      "cell_type": "code",
      "source": [
        "t3=t1 +(1,2,3,4,5,6)"
      ],
      "metadata": {
        "id": "15qUpUFkkwlH"
      },
      "execution_count": null,
      "outputs": []
    },
    {
      "cell_type": "code",
      "source": [
        "t3"
      ],
      "metadata": {
        "colab": {
          "base_uri": "https://localhost:8080/"
        },
        "id": "WOaMFFwQliez",
        "outputId": "2619d7ad-094f-4c78-d1c8-c8a4bd17ecac"
      },
      "execution_count": null,
      "outputs": [
        {
          "output_type": "execute_result",
          "data": {
            "text/plain": [
              "(20, 30, 40, 50, 60, 1, 2, 3, 4, 5, 6)"
            ]
          },
          "metadata": {},
          "execution_count": 199
        }
      ]
    },
    {
      "cell_type": "code",
      "source": [
        "t1*3"
      ],
      "metadata": {
        "colab": {
          "base_uri": "https://localhost:8080/"
        },
        "id": "2UePDucYlmar",
        "outputId": "4813133a-95d9-4fbf-eebd-9bb32d6080a6"
      },
      "execution_count": null,
      "outputs": [
        {
          "output_type": "execute_result",
          "data": {
            "text/plain": [
              "(20, 30, 40, 50, 60, 20, 30, 40, 50, 60, 20, 30, 40, 50, 60)"
            ]
          },
          "metadata": {},
          "execution_count": 200
        }
      ]
    },
    {
      "cell_type": "code",
      "source": [
        "dir(tuple)"
      ],
      "metadata": {
        "colab": {
          "base_uri": "https://localhost:8080/"
        },
        "id": "ORx9_eAOlmFE",
        "outputId": "dc830916-0af2-46f0-993f-d0e00373cc88"
      },
      "execution_count": null,
      "outputs": [
        {
          "output_type": "execute_result",
          "data": {
            "text/plain": [
              "['__add__',\n",
              " '__class__',\n",
              " '__class_getitem__',\n",
              " '__contains__',\n",
              " '__delattr__',\n",
              " '__dir__',\n",
              " '__doc__',\n",
              " '__eq__',\n",
              " '__format__',\n",
              " '__ge__',\n",
              " '__getattribute__',\n",
              " '__getitem__',\n",
              " '__getnewargs__',\n",
              " '__getstate__',\n",
              " '__gt__',\n",
              " '__hash__',\n",
              " '__init__',\n",
              " '__init_subclass__',\n",
              " '__iter__',\n",
              " '__le__',\n",
              " '__len__',\n",
              " '__lt__',\n",
              " '__mul__',\n",
              " '__ne__',\n",
              " '__new__',\n",
              " '__reduce__',\n",
              " '__reduce_ex__',\n",
              " '__repr__',\n",
              " '__rmul__',\n",
              " '__setattr__',\n",
              " '__sizeof__',\n",
              " '__str__',\n",
              " '__subclasshook__',\n",
              " 'count',\n",
              " 'index']"
            ]
          },
          "metadata": {},
          "execution_count": 201
        }
      ]
    },
    {
      "cell_type": "code",
      "source": [
        "t1"
      ],
      "metadata": {
        "colab": {
          "base_uri": "https://localhost:8080/"
        },
        "id": "SnODZ8brmGn8",
        "outputId": "42e6700a-a0fc-4de6-b1c3-c787b01cf76a"
      },
      "execution_count": null,
      "outputs": [
        {
          "output_type": "execute_result",
          "data": {
            "text/plain": [
              "(20, 30, 40, 50, 60)"
            ]
          },
          "metadata": {},
          "execution_count": 202
        }
      ]
    },
    {
      "cell_type": "code",
      "source": [
        "t1.count(50) # in bracket we have passed an element of tuple (not the index)"
      ],
      "metadata": {
        "colab": {
          "base_uri": "https://localhost:8080/"
        },
        "id": "-585F_dnmKav",
        "outputId": "2c977b05-bb06-4f87-fc2f-0e844903aa54"
      },
      "execution_count": null,
      "outputs": [
        {
          "output_type": "execute_result",
          "data": {
            "text/plain": [
              "1"
            ]
          },
          "metadata": {},
          "execution_count": 203
        }
      ]
    },
    {
      "cell_type": "code",
      "source": [
        "t1.index(20)"
      ],
      "metadata": {
        "colab": {
          "base_uri": "https://localhost:8080/"
        },
        "id": "A_DCaYMRmPRq",
        "outputId": "0f622714-37d1-46ff-bd2d-c7941d31d71e"
      },
      "execution_count": null,
      "outputs": [
        {
          "output_type": "execute_result",
          "data": {
            "text/plain": [
              "0"
            ]
          },
          "metadata": {},
          "execution_count": 204
        }
      ]
    },
    {
      "cell_type": "code",
      "source": [
        "t2=(3,3,3,3,3,4,4,4,5,5,5,5,)\n",
        "t2"
      ],
      "metadata": {
        "colab": {
          "base_uri": "https://localhost:8080/"
        },
        "id": "hjrkOhVamVUp",
        "outputId": "0cb7ca47-05a7-45af-ccf5-bb958cf78c7b"
      },
      "execution_count": null,
      "outputs": [
        {
          "output_type": "execute_result",
          "data": {
            "text/plain": [
              "(3, 3, 3, 3, 3, 4, 4, 4, 5, 5, 5, 5)"
            ]
          },
          "metadata": {},
          "execution_count": 206
        }
      ]
    },
    {
      "cell_type": "code",
      "source": [
        "t2.count(4)"
      ],
      "metadata": {
        "colab": {
          "base_uri": "https://localhost:8080/"
        },
        "id": "LA8jlFBKnHBA",
        "outputId": "02cb5a65-7d15-4c62-f18d-227491274fe8"
      },
      "execution_count": null,
      "outputs": [
        {
          "output_type": "execute_result",
          "data": {
            "text/plain": [
              "3"
            ]
          },
          "metadata": {},
          "execution_count": 209
        }
      ]
    },
    {
      "cell_type": "code",
      "source": [
        "t2.index(5)"
      ],
      "metadata": {
        "colab": {
          "base_uri": "https://localhost:8080/"
        },
        "id": "84pvvpNanzXb",
        "outputId": "8b9756b6-9fdb-4d06-a2e5-328b7fdd5aa0"
      },
      "execution_count": null,
      "outputs": [
        {
          "output_type": "execute_result",
          "data": {
            "text/plain": [
              "8"
            ]
          },
          "metadata": {},
          "execution_count": 210
        }
      ]
    },
    {
      "cell_type": "code",
      "source": [
        "# indexing and slicing with tuple is same as list\n",
        "# extracting elements of tuple\n",
        "t1[2]\n"
      ],
      "metadata": {
        "colab": {
          "base_uri": "https://localhost:8080/"
        },
        "id": "WB--09LmnZya",
        "outputId": "3f6bc035-3c35-4696-cc77-d399cbf67190"
      },
      "execution_count": null,
      "outputs": [
        {
          "output_type": "execute_result",
          "data": {
            "text/plain": [
              "40"
            ]
          },
          "metadata": {},
          "execution_count": 212
        }
      ]
    },
    {
      "cell_type": "code",
      "source": [
        "t1[1:4]"
      ],
      "metadata": {
        "colab": {
          "base_uri": "https://localhost:8080/"
        },
        "id": "38j35QZNobiw",
        "outputId": "a38e7254-ee4d-47fa-8dac-75f1385b08a4"
      },
      "execution_count": null,
      "outputs": [
        {
          "output_type": "execute_result",
          "data": {
            "text/plain": [
              "(30, 40, 50)"
            ]
          },
          "metadata": {},
          "execution_count": 213
        }
      ]
    },
    {
      "cell_type": "code",
      "source": [
        "t1[3:]"
      ],
      "metadata": {
        "colab": {
          "base_uri": "https://localhost:8080/"
        },
        "id": "ZbFGocwQoiiQ",
        "outputId": "b9dcb8c8-e057-4e80-e7aa-7ee75d7482a9"
      },
      "execution_count": null,
      "outputs": [
        {
          "output_type": "execute_result",
          "data": {
            "text/plain": [
              "(50, 60)"
            ]
          },
          "metadata": {},
          "execution_count": 214
        }
      ]
    },
    {
      "cell_type": "code",
      "source": [
        "t1[:4]"
      ],
      "metadata": {
        "colab": {
          "base_uri": "https://localhost:8080/"
        },
        "id": "TUZgZc4WoqC3",
        "outputId": "73f43bfa-b298-4469-920e-4cdbd0819e1b"
      },
      "execution_count": null,
      "outputs": [
        {
          "output_type": "execute_result",
          "data": {
            "text/plain": [
              "(20, 30, 40, 50)"
            ]
          },
          "metadata": {},
          "execution_count": 215
        }
      ]
    },
    {
      "cell_type": "code",
      "source": [
        "# Data Structure: 3.Dictionary\n",
        "# Dictionaries are used to store data values in \"key:value\" pairs.\n",
        "# A dictionary is a collection which is ordered, changeable and do not allow duplicates.\n",
        "# Dictionaries are written with curly brackets {\"Key\":\"Value\"}, and have keys and values.\n",
        "# Here, keys are unique identifiers that are associated with each value.:\n",
        "\n",
        "capital_dict={\"Nepal\": \"Kathmandu\", \"Italy\": \"Rome\", \"England\": \"London\"}\n",
        "capital_dict"
      ],
      "metadata": {
        "colab": {
          "base_uri": "https://localhost:8080/"
        },
        "id": "vkfSVHZKvxjo",
        "outputId": "3cef20a6-f227-4735-9ffe-c10ba4cf9cd5"
      },
      "execution_count": null,
      "outputs": [
        {
          "output_type": "execute_result",
          "data": {
            "text/plain": [
              "{'Nepal': 'Kathmandu', 'Italy': 'Rome', 'England': 'London'}"
            ]
          },
          "metadata": {},
          "execution_count": 3
        }
      ]
    },
    {
      "cell_type": "code",
      "source": [
        "type(capital_dict)"
      ],
      "metadata": {
        "colab": {
          "base_uri": "https://localhost:8080/"
        },
        "id": "oSEea4jxv6Z1",
        "outputId": "6f82e0c1-944a-437f-fdbb-a4401e8d5788"
      },
      "execution_count": null,
      "outputs": [
        {
          "output_type": "execute_result",
          "data": {
            "text/plain": [
              "dict"
            ]
          },
          "metadata": {},
          "execution_count": 4
        }
      ]
    },
    {
      "cell_type": "code",
      "source": [
        "dir(dict)"
      ],
      "metadata": {
        "colab": {
          "base_uri": "https://localhost:8080/"
        },
        "id": "UTT4ZLYlwIRX",
        "outputId": "9910b13b-11ad-461d-870d-7deae3115ce9"
      },
      "execution_count": null,
      "outputs": [
        {
          "output_type": "execute_result",
          "data": {
            "text/plain": [
              "['__class__',\n",
              " '__class_getitem__',\n",
              " '__contains__',\n",
              " '__delattr__',\n",
              " '__delitem__',\n",
              " '__dir__',\n",
              " '__doc__',\n",
              " '__eq__',\n",
              " '__format__',\n",
              " '__ge__',\n",
              " '__getattribute__',\n",
              " '__getitem__',\n",
              " '__getstate__',\n",
              " '__gt__',\n",
              " '__hash__',\n",
              " '__init__',\n",
              " '__init_subclass__',\n",
              " '__ior__',\n",
              " '__iter__',\n",
              " '__le__',\n",
              " '__len__',\n",
              " '__lt__',\n",
              " '__ne__',\n",
              " '__new__',\n",
              " '__or__',\n",
              " '__reduce__',\n",
              " '__reduce_ex__',\n",
              " '__repr__',\n",
              " '__reversed__',\n",
              " '__ror__',\n",
              " '__setattr__',\n",
              " '__setitem__',\n",
              " '__sizeof__',\n",
              " '__str__',\n",
              " '__subclasshook__',\n",
              " 'clear',\n",
              " 'copy',\n",
              " 'fromkeys',\n",
              " 'get',\n",
              " 'items',\n",
              " 'keys',\n",
              " 'pop',\n",
              " 'popitem',\n",
              " 'setdefault',\n",
              " 'update',\n",
              " 'values']"
            ]
          },
          "metadata": {},
          "execution_count": 5
        }
      ]
    },
    {
      "cell_type": "code",
      "source": [
        "# access element of dictionary\n",
        "capital_dict['Italy']"
      ],
      "metadata": {
        "colab": {
          "base_uri": "https://localhost:8080/",
          "height": 36
        },
        "id": "vKPOoAS8wMQK",
        "outputId": "cc489117-ffa5-41d9-bf1a-60e711fe959b"
      },
      "execution_count": null,
      "outputs": [
        {
          "output_type": "execute_result",
          "data": {
            "text/plain": [
              "'Rome'"
            ],
            "application/vnd.google.colaboratory.intrinsic+json": {
              "type": "string"
            }
          },
          "metadata": {},
          "execution_count": 6
        }
      ]
    },
    {
      "cell_type": "code",
      "source": [
        "# keys() method extracts the keys of the dictionary and returns the list of keys as a view object.\n",
        "kyes1=capital_dict.keys()\n",
        "kyes1"
      ],
      "metadata": {
        "colab": {
          "base_uri": "https://localhost:8080/"
        },
        "id": "833C7VGsy-rZ",
        "outputId": "87942359-6205-402a-dd76-94c66e21371c"
      },
      "execution_count": null,
      "outputs": [
        {
          "output_type": "execute_result",
          "data": {
            "text/plain": [
              "dict_keys(['Nepal', 'Italy', 'England'])"
            ]
          },
          "metadata": {},
          "execution_count": 7
        }
      ]
    },
    {
      "cell_type": "code",
      "source": [
        "capital_dict.keys()"
      ],
      "metadata": {
        "colab": {
          "base_uri": "https://localhost:8080/"
        },
        "id": "-tIFimkgz4v4",
        "outputId": "b458e030-c89c-40cc-d65b-a909c141f23e"
      },
      "execution_count": null,
      "outputs": [
        {
          "output_type": "execute_result",
          "data": {
            "text/plain": [
              "dict_keys(['Nepal', 'Italy', 'England'])"
            ]
          },
          "metadata": {},
          "execution_count": 8
        }
      ]
    },
    {
      "cell_type": "code",
      "source": [
        "type(capital_dict)"
      ],
      "metadata": {
        "colab": {
          "base_uri": "https://localhost:8080/"
        },
        "id": "41E-35h2z4Hs",
        "outputId": "6ef3a121-80f0-44ab-9431-29c280bfa738"
      },
      "execution_count": null,
      "outputs": [
        {
          "output_type": "execute_result",
          "data": {
            "text/plain": [
              "dict"
            ]
          },
          "metadata": {},
          "execution_count": 9
        }
      ]
    },
    {
      "cell_type": "code",
      "source": [
        "# The values() method returns a view object that displays a list of all the values in the dictionary.\n",
        "values1=capital_dict.values()\n",
        "values1"
      ],
      "metadata": {
        "colab": {
          "base_uri": "https://localhost:8080/"
        },
        "id": "idOJFDTSzjXK",
        "outputId": "18e4e021-9e4a-442c-aeca-cc7095342293"
      },
      "execution_count": null,
      "outputs": [
        {
          "output_type": "execute_result",
          "data": {
            "text/plain": [
              "dict_values(['Kathmandu', 'Rome', 'London'])"
            ]
          },
          "metadata": {},
          "execution_count": 10
        }
      ]
    },
    {
      "cell_type": "code",
      "source": [
        "# The items() method returns a view object that displays a list of dictionary's (key, value) tuple pairs.\n",
        "items1=capital_dict.items()\n",
        "items1\n"
      ],
      "metadata": {
        "colab": {
          "base_uri": "https://localhost:8080/"
        },
        "id": "Xr0iRy1vCJOu",
        "outputId": "788a546e-a9fa-4f30-db5b-0065bdf18d4d"
      },
      "execution_count": null,
      "outputs": [
        {
          "output_type": "execute_result",
          "data": {
            "text/plain": [
              "dict_items([('Nepal', 'Kathmandu'), ('Italy', 'Rome'), ('England', 'London')])"
            ]
          },
          "metadata": {},
          "execution_count": 11
        }
      ]
    },
    {
      "cell_type": "code",
      "source": [
        "# The update() method updates the dictionary with the elements from another dictionary object or from an iterable of key/value pairs.\n",
        "add_capital={\"india\":\"delhi\",\"abc\":\"xyz\"}\n",
        "capital_dict.update(add_capital)"
      ],
      "metadata": {
        "id": "s97UYHsECtEW"
      },
      "execution_count": null,
      "outputs": []
    },
    {
      "cell_type": "code",
      "source": [
        "capital_dict"
      ],
      "metadata": {
        "colab": {
          "base_uri": "https://localhost:8080/"
        },
        "id": "fNsJFauKEfBO",
        "outputId": "f0def16b-2070-4cb4-aafd-4b5d5af20a0a"
      },
      "execution_count": null,
      "outputs": [
        {
          "output_type": "execute_result",
          "data": {
            "text/plain": [
              "{'Nepal': 'Kathmandu',\n",
              " 'Italy': 'Rome',\n",
              " 'England': 'London',\n",
              " 'india': 'delhi',\n",
              " 'abc': 'xyz'}"
            ]
          },
          "metadata": {},
          "execution_count": 13
        }
      ]
    },
    {
      "cell_type": "code",
      "source": [
        "capital_dict.update({\"Australia\":\"Canberra\"})\n",
        "capital_dict"
      ],
      "metadata": {
        "colab": {
          "base_uri": "https://localhost:8080/"
        },
        "id": "LZqoIruiEjX-",
        "outputId": "0bfdad10-199d-4940-b9a1-83a234534959"
      },
      "execution_count": null,
      "outputs": [
        {
          "output_type": "execute_result",
          "data": {
            "text/plain": [
              "{'Nepal': 'Kathmandu',\n",
              " 'Italy': 'Rome',\n",
              " 'England': 'London',\n",
              " 'india': 'delhi',\n",
              " 'abc': 'xyz',\n",
              " 'Australia': 'Canberra'}"
            ]
          },
          "metadata": {},
          "execution_count": 14
        }
      ]
    },
    {
      "cell_type": "code",
      "source": [
        "capital_dict.update({\"a\":\"b\",\"c\":\"d\"})\n",
        "capital_dict"
      ],
      "metadata": {
        "colab": {
          "base_uri": "https://localhost:8080/"
        },
        "id": "d0lBycJGFI33",
        "outputId": "8a143e3a-4c55-4d7c-99b0-006d75d34c38"
      },
      "execution_count": null,
      "outputs": [
        {
          "output_type": "execute_result",
          "data": {
            "text/plain": [
              "{'Nepal': 'Kathmandu',\n",
              " 'Italy': 'Rome',\n",
              " 'England': 'London',\n",
              " 'india': 'delhi',\n",
              " 'abc': 'xyz',\n",
              " 'Australia': 'Canberra',\n",
              " 'a': 'b',\n",
              " 'c': 'd'}"
            ]
          },
          "metadata": {},
          "execution_count": 15
        }
      ]
    },
    {
      "cell_type": "code",
      "source": [
        "# The pop() method removes and returns an element from a dictionary having the given key.\n",
        "capital_dict.pop(\"a\")"
      ],
      "metadata": {
        "colab": {
          "base_uri": "https://localhost:8080/",
          "height": 36
        },
        "id": "L0s54rcPFaDG",
        "outputId": "d933dfa7-0a3d-469c-bf8c-7495650254e4"
      },
      "execution_count": null,
      "outputs": [
        {
          "output_type": "execute_result",
          "data": {
            "text/plain": [
              "'b'"
            ],
            "application/vnd.google.colaboratory.intrinsic+json": {
              "type": "string"
            }
          },
          "metadata": {},
          "execution_count": 16
        }
      ]
    },
    {
      "cell_type": "code",
      "source": [
        "capital_dict"
      ],
      "metadata": {
        "colab": {
          "base_uri": "https://localhost:8080/"
        },
        "id": "EgdJaNRCGjL2",
        "outputId": "c73e1d81-f948-4596-f4d5-42799fae452b"
      },
      "execution_count": null,
      "outputs": [
        {
          "output_type": "execute_result",
          "data": {
            "text/plain": [
              "{'Nepal': 'Kathmandu',\n",
              " 'Italy': 'Rome',\n",
              " 'England': 'London',\n",
              " 'india': 'delhi',\n",
              " 'abc': 'xyz',\n",
              " 'Australia': 'Canberra',\n",
              " 'c': 'd'}"
            ]
          },
          "metadata": {},
          "execution_count": 17
        }
      ]
    },
    {
      "cell_type": "code",
      "source": [
        "capital_dict['c']='mumbai'"
      ],
      "metadata": {
        "id": "R1gc1FDuGmYu"
      },
      "execution_count": null,
      "outputs": []
    },
    {
      "cell_type": "code",
      "source": [
        "capital_dict"
      ],
      "metadata": {
        "colab": {
          "base_uri": "https://localhost:8080/"
        },
        "id": "UIidxmPnG5_e",
        "outputId": "918541fa-a686-43f6-b62d-b11f8576ec10"
      },
      "execution_count": null,
      "outputs": [
        {
          "output_type": "execute_result",
          "data": {
            "text/plain": [
              "{'Nepal': 'Kathmandu',\n",
              " 'Italy': 'Rome',\n",
              " 'England': 'London',\n",
              " 'india': 'delhi',\n",
              " 'abc': 'xyz',\n",
              " 'Australia': 'Canberra',\n",
              " 'c': 'mumbai'}"
            ]
          },
          "metadata": {},
          "execution_count": 19
        }
      ]
    },
    {
      "cell_type": "code",
      "source": [
        "capital_dict.popitem() # removes last key:value pair from dictionary"
      ],
      "metadata": {
        "colab": {
          "base_uri": "https://localhost:8080/"
        },
        "id": "V0M4Nvs7G8vm",
        "outputId": "4d6bc3a5-d35c-46f1-b241-84f2248dacae"
      },
      "execution_count": null,
      "outputs": [
        {
          "output_type": "execute_result",
          "data": {
            "text/plain": [
              "('c', 'mumbai')"
            ]
          },
          "metadata": {},
          "execution_count": 20
        }
      ]
    },
    {
      "cell_type": "code",
      "source": [
        "capital_dict"
      ],
      "metadata": {
        "colab": {
          "base_uri": "https://localhost:8080/"
        },
        "id": "69h2msDYHIDe",
        "outputId": "98431b2c-27cc-4199-ca54-8780c919e256"
      },
      "execution_count": null,
      "outputs": [
        {
          "output_type": "execute_result",
          "data": {
            "text/plain": [
              "{'Nepal': 'Kathmandu',\n",
              " 'Italy': 'Rome',\n",
              " 'England': 'London',\n",
              " 'india': 'delhi',\n",
              " 'abc': 'xyz',\n",
              " 'Australia': 'Canberra'}"
            ]
          },
          "metadata": {},
          "execution_count": 21
        }
      ]
    },
    {
      "cell_type": "code",
      "source": [
        "# Dictionary Values can be of different data type\n",
        "mylist=['mango','banana','strawberry','watermelom','apple']\n"
      ],
      "metadata": {
        "id": "1e-IdZRIHYmu"
      },
      "execution_count": null,
      "outputs": []
    },
    {
      "cell_type": "code",
      "source": [
        "mytuple=(1,2,3,4,5,5,6,)"
      ],
      "metadata": {
        "id": "x1BjeBLEJqvm"
      },
      "execution_count": null,
      "outputs": []
    },
    {
      "cell_type": "code",
      "source": [
        "mydict={'A':mylist,\n",
        "        'B':mytuple,\n",
        "        'c':capital_dict}\n",
        "mydict"
      ],
      "metadata": {
        "colab": {
          "base_uri": "https://localhost:8080/"
        },
        "id": "oLioWYumJ0am",
        "outputId": "8b2e9304-e57c-4e21-d112-e5dd43ae087a"
      },
      "execution_count": null,
      "outputs": [
        {
          "output_type": "execute_result",
          "data": {
            "text/plain": [
              "{'A': ['mango', 'banana', 'strawberry', 'watermelom', 'apple'],\n",
              " 'B': (1, 2, 3, 4, 5, 5, 6),\n",
              " 'c': {'Nepal': 'Kathmandu',\n",
              "  'Italy': 'Rome',\n",
              "  'England': 'London',\n",
              "  'india': 'delhi',\n",
              "  'abc': 'xyz',\n",
              "  'Australia': 'Canberra'}}"
            ]
          },
          "metadata": {},
          "execution_count": 37
        }
      ]
    },
    {
      "cell_type": "code",
      "source": [
        "mydict['A']"
      ],
      "metadata": {
        "colab": {
          "base_uri": "https://localhost:8080/"
        },
        "id": "ix75qIFoK1Wm",
        "outputId": "d25f1c63-fa1c-44b9-b6b3-9d3d5d54ca97"
      },
      "execution_count": null,
      "outputs": [
        {
          "output_type": "execute_result",
          "data": {
            "text/plain": [
              "['mango', 'banana', 'strawberry', 'watermelom', 'apple']"
            ]
          },
          "metadata": {},
          "execution_count": 38
        }
      ]
    },
    {
      "cell_type": "code",
      "source": [
        "mydict['B']"
      ],
      "metadata": {
        "colab": {
          "base_uri": "https://localhost:8080/"
        },
        "id": "ydNoJW2SK5O9",
        "outputId": "db7e9ac7-44d3-4c69-caea-050067a82fe2"
      },
      "execution_count": null,
      "outputs": [
        {
          "output_type": "execute_result",
          "data": {
            "text/plain": [
              "(1, 2, 3, 4, 5, 5, 6)"
            ]
          },
          "metadata": {},
          "execution_count": 39
        }
      ]
    },
    {
      "cell_type": "code",
      "source": [
        "mydict['c']"
      ],
      "metadata": {
        "colab": {
          "base_uri": "https://localhost:8080/"
        },
        "id": "98ReL73fK9gO",
        "outputId": "30619eee-867b-44c1-dcd9-a91bb40a441c"
      },
      "execution_count": null,
      "outputs": [
        {
          "output_type": "execute_result",
          "data": {
            "text/plain": [
              "{'Nepal': 'Kathmandu',\n",
              " 'Italy': 'Rome',\n",
              " 'England': 'London',\n",
              " 'india': 'delhi',\n",
              " 'abc': 'xyz',\n",
              " 'Australia': 'Canberra'}"
            ]
          },
          "metadata": {},
          "execution_count": 40
        }
      ]
    },
    {
      "cell_type": "code",
      "source": [
        "len(mydict['A'])"
      ],
      "metadata": {
        "colab": {
          "base_uri": "https://localhost:8080/"
        },
        "id": "EGk1xQBvLAyA",
        "outputId": "019f0bb7-8e40-4554-b694-e72d5d78ace9"
      },
      "execution_count": null,
      "outputs": [
        {
          "output_type": "execute_result",
          "data": {
            "text/plain": [
              "4"
            ]
          },
          "metadata": {},
          "execution_count": 31
        }
      ]
    },
    {
      "cell_type": "code",
      "source": [
        "mydict['A'][2] #index 0 1 2 3, 3rd index element = strawberry"
      ],
      "metadata": {
        "colab": {
          "base_uri": "https://localhost:8080/",
          "height": 36
        },
        "id": "sCnVyWEJLPcG",
        "outputId": "c1c0fe2e-cd90-42cb-bd26-c6c1b3700140"
      },
      "execution_count": null,
      "outputs": [
        {
          "output_type": "execute_result",
          "data": {
            "text/plain": [
              "'strawberry'"
            ],
            "application/vnd.google.colaboratory.intrinsic+json": {
              "type": "string"
            }
          },
          "metadata": {},
          "execution_count": 42
        }
      ]
    },
    {
      "cell_type": "code",
      "source": [
        "mydict['c']['india']"
      ],
      "metadata": {
        "colab": {
          "base_uri": "https://localhost:8080/",
          "height": 36
        },
        "id": "VMlgHz40LwhW",
        "outputId": "490d437a-56ad-4789-b3f8-0863b3c00d6d"
      },
      "execution_count": null,
      "outputs": [
        {
          "output_type": "execute_result",
          "data": {
            "text/plain": [
              "'delhi'"
            ],
            "application/vnd.google.colaboratory.intrinsic+json": {
              "type": "string"
            }
          },
          "metadata": {},
          "execution_count": 43
        }
      ]
    },
    {
      "cell_type": "code",
      "source": [
        "# Math functions: can import specific functions or all using *\n",
        "sqrt(25) # raise error as you have not imported"
      ],
      "metadata": {
        "colab": {
          "base_uri": "https://localhost:8080/",
          "height": 158
        },
        "id": "XZ3I_YJ9RNwL",
        "outputId": "f987cb8d-3036-447a-a7bc-391a05d43353"
      },
      "execution_count": null,
      "outputs": [
        {
          "output_type": "error",
          "ename": "NameError",
          "evalue": "name 'sqrt' is not defined",
          "traceback": [
            "\u001b[0;31m---------------------------------------------------------------------------\u001b[0m",
            "\u001b[0;31mNameError\u001b[0m                                 Traceback (most recent call last)",
            "\u001b[0;32m/tmp/ipython-input-2268610189.py\u001b[0m in \u001b[0;36m<cell line: 0>\u001b[0;34m()\u001b[0m\n\u001b[1;32m      1\u001b[0m \u001b[0;31m# Math functions: can import specific functions or all using *\u001b[0m\u001b[0;34m\u001b[0m\u001b[0;34m\u001b[0m\u001b[0m\n\u001b[0;32m----> 2\u001b[0;31m \u001b[0msqrt\u001b[0m\u001b[0;34m(\u001b[0m\u001b[0;36m25\u001b[0m\u001b[0;34m)\u001b[0m \u001b[0;31m# raise error as you have not imported\u001b[0m\u001b[0;34m\u001b[0m\u001b[0;34m\u001b[0m\u001b[0m\n\u001b[0m",
            "\u001b[0;31mNameError\u001b[0m: name 'sqrt' is not defined"
          ]
        }
      ]
    },
    {
      "cell_type": "code",
      "source": [
        "from math import sqrt\n",
        "sqrt(36)"
      ],
      "metadata": {
        "colab": {
          "base_uri": "https://localhost:8080/"
        },
        "id": "ih6q_OH5RWWN",
        "outputId": "a703eb5d-6d97-4436-d021-5a89e6b783a6"
      },
      "execution_count": null,
      "outputs": [
        {
          "output_type": "execute_result",
          "data": {
            "text/plain": [
              "6.0"
            ]
          },
          "metadata": {},
          "execution_count": 3
        }
      ]
    },
    {
      "cell_type": "code",
      "source": [
        "from math import factorial\n",
        "factorial(5)"
      ],
      "metadata": {
        "colab": {
          "base_uri": "https://localhost:8080/"
        },
        "id": "V6TZTCEVRXop",
        "outputId": "26da802e-29e8-4b7a-eefa-0f0867fbb76a"
      },
      "execution_count": null,
      "outputs": [
        {
          "output_type": "execute_result",
          "data": {
            "text/plain": [
              "120"
            ]
          },
          "metadata": {},
          "execution_count": 2
        }
      ]
    },
    {
      "cell_type": "code",
      "source": [
        "sin(90)"
      ],
      "metadata": {
        "colab": {
          "base_uri": "https://localhost:8080/"
        },
        "id": "lE_7OkfmRher",
        "outputId": "0264ef6d-2753-4e85-8db6-708866e71cbe"
      },
      "execution_count": null,
      "outputs": [
        {
          "output_type": "execute_result",
          "data": {
            "text/plain": [
              "0.8939966636005579"
            ]
          },
          "metadata": {},
          "execution_count": 8
        }
      ]
    },
    {
      "cell_type": "code",
      "source": [
        "from math import sin,cos,tan"
      ],
      "metadata": {
        "id": "OnLIMs6sRkt2"
      },
      "execution_count": null,
      "outputs": []
    },
    {
      "cell_type": "code",
      "source": [
        "from math import *\n",
        "listnew=[5,2,3]\n",
        "prod(listnew) #or prod([10,20,30])"
      ],
      "metadata": {
        "colab": {
          "base_uri": "https://localhost:8080/"
        },
        "id": "6UdV3fShRmEs",
        "outputId": "4ae80b10-4843-4e8f-a956-a3b0a923a926"
      },
      "execution_count": null,
      "outputs": [
        {
          "output_type": "execute_result",
          "data": {
            "text/plain": [
              "30"
            ]
          },
          "metadata": {},
          "execution_count": 10
        }
      ]
    },
    {
      "cell_type": "code",
      "source": [
        "prod(t1)"
      ],
      "metadata": {
        "colab": {
          "base_uri": "https://localhost:8080/",
          "height": 141
        },
        "id": "d1xqD_xyRrW2",
        "outputId": "0f0f498f-0a84-4173-ef7c-fdca8870067f"
      },
      "execution_count": null,
      "outputs": [
        {
          "output_type": "error",
          "ename": "NameError",
          "evalue": "name 't1' is not defined",
          "traceback": [
            "\u001b[0;31m---------------------------------------------------------------------------\u001b[0m",
            "\u001b[0;31mNameError\u001b[0m                                 Traceback (most recent call last)",
            "\u001b[0;32m/tmp/ipython-input-3869433727.py\u001b[0m in \u001b[0;36m<cell line: 0>\u001b[0;34m()\u001b[0m\n\u001b[0;32m----> 1\u001b[0;31m \u001b[0mprod\u001b[0m\u001b[0;34m(\u001b[0m\u001b[0mt1\u001b[0m\u001b[0;34m)\u001b[0m\u001b[0;34m\u001b[0m\u001b[0;34m\u001b[0m\u001b[0m\n\u001b[0m",
            "\u001b[0;31mNameError\u001b[0m: name 't1' is not defined"
          ]
        }
      ]
    },
    {
      "cell_type": "code",
      "source": [
        "# OR you can say 'import math'\n",
        "# But while calling any function you have to use math.Function_Name()\n",
        "# The math.prod() method returns the product of the elements from the given iterable.\n",
        "import math # or 'import math as mt', mt.sqrt(64 )\n",
        "sequence = (2,2,5,6) # iterable where elements are given\n",
        "print(math.prod(sequence))\n"
      ],
      "metadata": {
        "colab": {
          "base_uri": "https://localhost:8080/"
        },
        "id": "kmiFqDHERxcK",
        "outputId": "706d1b85-bcff-4193-a92d-ffd868ddefb0"
      },
      "execution_count": null,
      "outputs": [
        {
          "output_type": "stream",
          "name": "stdout",
          "text": [
            "120\n"
          ]
        }
      ]
    },
    {
      "cell_type": "code",
      "source": [
        "import math\n",
        "list4=[2,3,4]\n",
        "math.prod(list4)"
      ],
      "metadata": {
        "colab": {
          "base_uri": "https://localhost:8080/"
        },
        "id": "5yTG0xRGRz7d",
        "outputId": "a5f0ed0c-5a80-43da-c41e-847f4e979c6a"
      },
      "execution_count": null,
      "outputs": [
        {
          "output_type": "execute_result",
          "data": {
            "text/plain": [
              "24"
            ]
          },
          "metadata": {},
          "execution_count": 14
        }
      ]
    },
    {
      "cell_type": "code",
      "source": [
        "dir(math) # all functions of math library"
      ],
      "metadata": {
        "colab": {
          "base_uri": "https://localhost:8080/"
        },
        "id": "rdSpaoYTR9bm",
        "outputId": "5ba962af-a3fb-45a0-b509-7fda511ce7da"
      },
      "execution_count": null,
      "outputs": [
        {
          "output_type": "execute_result",
          "data": {
            "text/plain": [
              "['__doc__',\n",
              " '__loader__',\n",
              " '__name__',\n",
              " '__package__',\n",
              " '__spec__',\n",
              " 'acos',\n",
              " 'acosh',\n",
              " 'asin',\n",
              " 'asinh',\n",
              " 'atan',\n",
              " 'atan2',\n",
              " 'atanh',\n",
              " 'cbrt',\n",
              " 'ceil',\n",
              " 'comb',\n",
              " 'copysign',\n",
              " 'cos',\n",
              " 'cosh',\n",
              " 'degrees',\n",
              " 'dist',\n",
              " 'e',\n",
              " 'erf',\n",
              " 'erfc',\n",
              " 'exp',\n",
              " 'exp2',\n",
              " 'expm1',\n",
              " 'fabs',\n",
              " 'factorial',\n",
              " 'floor',\n",
              " 'fmod',\n",
              " 'frexp',\n",
              " 'fsum',\n",
              " 'gamma',\n",
              " 'gcd',\n",
              " 'hypot',\n",
              " 'inf',\n",
              " 'isclose',\n",
              " 'isfinite',\n",
              " 'isinf',\n",
              " 'isnan',\n",
              " 'isqrt',\n",
              " 'lcm',\n",
              " 'ldexp',\n",
              " 'lgamma',\n",
              " 'log',\n",
              " 'log10',\n",
              " 'log1p',\n",
              " 'log2',\n",
              " 'modf',\n",
              " 'nan',\n",
              " 'nextafter',\n",
              " 'perm',\n",
              " 'pi',\n",
              " 'pow',\n",
              " 'prod',\n",
              " 'radians',\n",
              " 'remainder',\n",
              " 'sin',\n",
              " 'sinh',\n",
              " 'sqrt',\n",
              " 'tan',\n",
              " 'tanh',\n",
              " 'tau',\n",
              " 'trunc',\n",
              " 'ulp']"
            ]
          },
          "metadata": {},
          "execution_count": 15
        }
      ]
    },
    {
      "cell_type": "code",
      "source": [
        "import math as mt"
      ],
      "metadata": {
        "id": "o91aoegrSAkk"
      },
      "execution_count": null,
      "outputs": []
    },
    {
      "cell_type": "code",
      "source": [
        "mt.sqrt(36)"
      ],
      "metadata": {
        "colab": {
          "base_uri": "https://localhost:8080/"
        },
        "id": "TODDBsbASEiN",
        "outputId": "53479111-01e6-402a-a917-40e01dc27742"
      },
      "execution_count": null,
      "outputs": [
        {
          "output_type": "execute_result",
          "data": {
            "text/plain": [
              "6.0"
            ]
          },
          "metadata": {},
          "execution_count": 17
        }
      ]
    }
  ],
  "metadata": {
    "colab": {
      "provenance": []
    },
    "kernelspec": {
      "display_name": "Python 3",
      "name": "python3"
    },
    "language_info": {
      "name": "python"
    }
  },
  "nbformat": 4,
  "nbformat_minor": 0
}